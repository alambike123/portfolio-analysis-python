{
 "cells": [
  {
   "cell_type": "markdown",
   "metadata": {},
   "source": [
    "# Module 2: Factor Models\n",
    "\n",
    "In this module, we will explore linear factor models (LFMs). \n",
    "\n",
    "## Table of Contents:\n",
    "&nbsp;&nbsp;0. [Motivation of Factor Models](#0)\n",
    "\n",
    "&nbsp;&nbsp;1. [Introduction to Linear Factor Models](#1)\n",
    "\n",
    "\n",
    "&nbsp;&nbsp;2. [Factor Model in Asset Return Interpretation](#2)   \n",
    "\n",
    "&nbsp;&nbsp;&nbsp;&nbsp;&nbsp;&nbsp;&nbsp;&nbsp;2.0 [Model Setup](#2.0)\n",
    "\n",
    "&nbsp;&nbsp;&nbsp;&nbsp;&nbsp;&nbsp;&nbsp;&nbsp;2.1 [Plotting and Exploring the data](#2.1)\n",
    "\n",
    "&nbsp;&nbsp;&nbsp;&nbsp;&nbsp;&nbsp;&nbsp;&nbsp;2.1 [OLS Results](#2.2)\n",
    "\n",
    "&nbsp;&nbsp;&nbsp;&nbsp;&nbsp;&nbsp;&nbsp;&nbsp;2.2 [OLS Drawbacks](#2.3)\n",
    "\n",
    "\n",
    "&nbsp;&nbsp;3. [Alternative ML Methods](#3)\n",
    "\n",
    "&nbsp;&nbsp;&nbsp;&nbsp;&nbsp;&nbsp;&nbsp;&nbsp;3.0 [LASSO Regression](#3.0)\n",
    "\n",
    "&nbsp;&nbsp;&nbsp;&nbsp;&nbsp;&nbsp;&nbsp;&nbsp;3.1 [LASSO with cross validation](#3.1)\n",
    "\n",
    "&nbsp;&nbsp;&nbsp;&nbsp;&nbsp;&nbsp;&nbsp;&nbsp;3.2 [Elastic Net](#3.2)\n",
    "\n",
    "&nbsp;&nbsp;&nbsp;&nbsp;&nbsp;&nbsp;&nbsp;&nbsp;3.3 [Best Subset Regression](#3.3)\n",
    "\n",
    "\n",
    "&nbsp;&nbsp;4. [Relaxing the time period assumption, Regime Analysis](#4)   \n",
    "\n",
    "&nbsp;&nbsp;5. [Additional Resources](#5)\n",
    "\n",
    "&nbsp;&nbsp;6. [User Section](#6)"
   ]
  },
  {
   "cell_type": "markdown",
   "metadata": {},
   "source": [
    "## 0. Motivation of Factor Models <a class=\"anchor\" id=\"0\"></a>\n",
    "\n",
    "Factors models are widely used in industry and serve two main purposes.\n",
    "\n",
    "The first is to reduce the complexity of modeling asset price movements.  For instance, trying to build a model that completely explains stock price movements is near impossible.  In order to build a model for your favorite stock one would need to model supply, demand, sentiment, current and expected future earnings of the stock, news, interest rates, risk premia...\n",
    "\n",
    "It's near impossible to calibrate such a complicated model!  Instead, factor investors assume that there are N important factors that drive a portion of the asset returns.  They then say that at the portfolio level, asset specific movements can be averaged out, and only those N variables remain.  So to understand what drives the portfolio returns we only need to model the effect of that small number of factors.\n",
    "\n",
    "Alternativly, understanding the factor loadings of the individual assets allows us to estimate the covariance of our returns.  We state without proof that if one understands the factor loadings and the covariance of the factor returns, one can then compute an estimate for the covariance of the assets themselves.\n",
    "\n",
    "Finally factor models can also be used for hedging.  We again state without proof that the factor loadings represent the hedging ratio one would use to minimize the volatility of your portfolio.\n",
    "\n",
    "In this module we will walk though multiple ways of estimating factor loadings, and discuss their relative strenghts and weaknesses.\n"
   ]
  },
  {
   "cell_type": "markdown",
   "metadata": {},
   "source": [
    "## 2. Factor Model in Asset Return Interpretation <a class=\"anchor\" id=\"2\"></a>\n",
    "\n",
    "If $y_t$ represent an asset return at time t, the linear factor model can help us interpret the source of the asset return and attribute it to the factor returns.\n",
    "\n",
    "In this example, we are interested in explaining the asset returns with a five-factor model:\n",
    "\n",
    "1) World Equity: This factor represents worldwide equity returns.\n",
    "\n",
    "2) US Treasury: This factor contains return from treasury bonds in United States, the bonds with the least risk.\n",
    "\n",
    "3) Bond Risk Premia: This is a credit factor that captures extra yield from risky bonds.  Defined as the spread between high risk bonds and US Treasury bonds.\n",
    "\n",
    "4) Inflation Protection: This is a \"style\" factor that considers the difference between real and nominal returns, thus balances the need for both.\n",
    "\n",
    "5) Currency Protection: This is also a \"style\" factor that includes risk premium for US domestic assets.\n"
   ]
  },
  {
   "cell_type": "markdown",
   "metadata": {},
   "source": [
    "### 2.0 Model Setup <a class=\"anchor\" id=\"2.0\"></a>\n",
    "For the first step, let's import necessary packages and define our functions (for later use):"
   ]
  },
  {
   "cell_type": "code",
   "execution_count": 4,
   "metadata": {},
   "outputs": [
    {
     "name": "stdout",
     "output_type": "stream",
     "text": [
      "Collecting cvxpy\n",
      "  Downloading cvxpy-1.1.1.tar.gz (990 kB)\n",
      "\u001b[K     |████████████████████████████████| 990 kB 1.9 MB/s eta 0:00:01\n",
      "\u001b[?25h  Installing build dependencies ... \u001b[?25ldone\n",
      "\u001b[?25h  Getting requirements to build wheel ... \u001b[?25ldone\n",
      "\u001b[?25h    Preparing wheel metadata ... \u001b[?25ldone\n",
      "\u001b[?25hCollecting scs>=1.1.3\n",
      "  Downloading scs-2.1.2.tar.gz (3.5 MB)\n",
      "\u001b[K     |████████████████████████████████| 3.5 MB 13.9 MB/s eta 0:00:01\n",
      "\u001b[?25hCollecting osqp>=0.4.1\n",
      "  Downloading osqp-0.6.1-cp37-cp37m-manylinux2010_x86_64.whl (211 kB)\n",
      "\u001b[K     |████████████████████████████████| 211 kB 31.3 MB/s eta 0:00:01\n",
      "\u001b[?25hRequirement already satisfied: numpy>=1.15 in /opt/conda/lib/python3.7/site-packages (from cvxpy) (1.17.3)\n",
      "Requirement already satisfied: scipy>=1.1.0 in /opt/conda/lib/python3.7/site-packages (from cvxpy) (1.3.2)\n",
      "Collecting ecos>=2\n",
      "  Downloading ecos-2.0.7.post1-cp37-cp37m-manylinux1_x86_64.whl (147 kB)\n",
      "\u001b[K     |████████████████████████████████| 147 kB 27.4 MB/s eta 0:00:01\n",
      "\u001b[?25hProcessing /home/jovyan/.cache/pip/wheels/56/b0/fe/4410d17b32f1f0c3cf54cdfb2bc04d7b4b8f4ae377e2229ba0/future-0.18.2-py3-none-any.whl\n",
      "Building wheels for collected packages: cvxpy, scs\n",
      "  Building wheel for cvxpy (PEP 517) ... \u001b[?25ldone\n",
      "\u001b[?25h  Created wheel for cvxpy: filename=cvxpy-1.1.1-cp37-cp37m-linux_x86_64.whl size=2656204 sha256=ec2b8a63511a98ee2b26d7f99597a29bb3ee6eb501387b08390c474950dd98bf\n",
      "  Stored in directory: /home/jovyan/.cache/pip/wheels/9b/20/6d/7f81ad3fb305ddc04939f04a43c08aeff81f41f6687dfd5759\n",
      "  Building wheel for scs (setup.py) ... \u001b[?25ldone\n",
      "\u001b[?25h  Created wheel for scs: filename=scs-2.1.2-cp37-cp37m-linux_x86_64.whl size=538563 sha256=c91669430d4be652f7145bf4efbae05bb83d51f0abeeba4f91bbf8a5a17408ea\n",
      "  Stored in directory: /home/jovyan/.cache/pip/wheels/bc/e9/2d/41c52bfaefbbbee5b3c6c189e168039f6ac9b40fa2e14fe96d\n",
      "Successfully built cvxpy scs\n",
      "Installing collected packages: scs, future, osqp, ecos, cvxpy\n",
      "Successfully installed cvxpy-1.1.1 ecos-2.0.7.post1 future-0.18.2 osqp-0.6.1 scs-2.1.2\n"
     ]
    }
   ],
   "source": [
    "!pip install cvxpy"
   ]
  },
  {
   "cell_type": "code",
   "execution_count": 4,
   "metadata": {},
   "outputs": [
    {
     "name": "stdout",
     "output_type": "stream",
     "text": [
      "/home/jovyan/portfolio-analysis-python/course_3_python_and_machine_learning_for_asset_management/new_version\n"
     ]
    }
   ],
   "source": [
    "%cd new_version"
   ]
  },
  {
   "cell_type": "code",
   "execution_count": 5,
   "metadata": {},
   "outputs": [],
   "source": [
    "#import all the necessary packages\n",
    "import numpy as np #for numerical array data\n",
    "import pandas as pd #for tabular data\n",
    "import matplotlib.pyplot as plt #for plotting purposes\n",
    "\n",
    "%matplotlib inline\n",
    "plt.rcParams['axes.labelsize'] = 14\n",
    "plt.rcParams['xtick.labelsize'] = 12\n",
    "plt.rcParams['ytick.labelsize'] = 12\n",
    "\n",
    "import importlib as imp\n",
    "\n",
    "import FactorModelLib as fm #the code that wraps around the sikitlearn implementations\n",
    "import config\n",
    "\n",
    "\n",
    "import warnings\n",
    "warnings.filterwarnings('ignore')"
   ]
  },
  {
   "cell_type": "markdown",
   "metadata": {},
   "source": [
    "Next, read our data and check the assets/factors we have:"
   ]
  },
  {
   "cell_type": "code",
   "execution_count": 7,
   "metadata": {},
   "outputs": [],
   "source": [
    "all_data = pd.read_csv(config.dataPath)\n",
    "all_data.head()\n",
    "all_data[config.dateName] = pd.to_datetime(all_data[config.dateName])"
   ]
  },
  {
   "cell_type": "markdown",
   "metadata": {},
   "source": [
    "### 2.1 Plotting and Exploring the data <a class=\"anchor\" id=\"2.1\"></a>\n",
    "\n",
    "First things first, let's look at the data."
   ]
  },
  {
   "cell_type": "code",
   "execution_count": null,
   "metadata": {},
   "outputs": [],
   "source": []
  }
 ],
 "metadata": {
  "kernelspec": {
   "display_name": "Python 3",
   "language": "python",
   "name": "python3"
  },
  "language_info": {
   "codemirror_mode": {
    "name": "ipython",
    "version": 3
   },
   "file_extension": ".py",
   "mimetype": "text/x-python",
   "name": "python",
   "nbconvert_exporter": "python",
   "pygments_lexer": "ipython3",
   "version": "3.7.3"
  }
 },
 "nbformat": 4,
 "nbformat_minor": 4
}
