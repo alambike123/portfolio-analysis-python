{
 "cells": [
  {
   "cell_type": "code",
   "execution_count": 1,
   "metadata": {},
   "outputs": [],
   "source": [
    "import numpy as np\n",
    "import pandas as pd\n",
    "import statsmodels.api as sm\n",
    "import matplotlib.pyplot as plt\n",
    "\n",
    "import sys\n",
    "sys.path.append(\"../\")\n",
    "import edhec_risk_kit as erk\n",
    "\n",
    "# using seaborn style (type plt.style.available to see available styles)\n",
    "plt.style.use(\"seaborn-dark\")"
   ]
  },
  {
   "cell_type": "code",
   "execution_count": 3,
   "metadata": {},
   "outputs": [
    {
     "data": {
      "text/html": [
       "<div>\n",
       "<style scoped>\n",
       "    .dataframe tbody tr th:only-of-type {\n",
       "        vertical-align: middle;\n",
       "    }\n",
       "\n",
       "    .dataframe tbody tr th {\n",
       "        vertical-align: top;\n",
       "    }\n",
       "\n",
       "    .dataframe thead th {\n",
       "        text-align: right;\n",
       "    }\n",
       "</style>\n",
       "<table border=\"1\" class=\"dataframe\">\n",
       "  <thead>\n",
       "    <tr style=\"text-align: right;\">\n",
       "      <th></th>\n",
       "      <th>Agric</th>\n",
       "      <th>Food</th>\n",
       "      <th>Soda</th>\n",
       "      <th>Beer</th>\n",
       "      <th>Smoke</th>\n",
       "      <th>Toys</th>\n",
       "      <th>Fun</th>\n",
       "      <th>Books</th>\n",
       "      <th>Hshld</th>\n",
       "      <th>Clths</th>\n",
       "      <th>...</th>\n",
       "      <th>Boxes</th>\n",
       "      <th>Trans</th>\n",
       "      <th>Whlsl</th>\n",
       "      <th>Rtail</th>\n",
       "      <th>Meals</th>\n",
       "      <th>Banks</th>\n",
       "      <th>Insur</th>\n",
       "      <th>RlEst</th>\n",
       "      <th>Fin</th>\n",
       "      <th>Other</th>\n",
       "    </tr>\n",
       "  </thead>\n",
       "  <tbody>\n",
       "    <tr>\n",
       "      <th>2018-08</th>\n",
       "      <td>0.0715</td>\n",
       "      <td>0.0114</td>\n",
       "      <td>-0.0308</td>\n",
       "      <td>-0.0186</td>\n",
       "      <td>-0.0543</td>\n",
       "      <td>0.0738</td>\n",
       "      <td>0.0250</td>\n",
       "      <td>-0.0463</td>\n",
       "      <td>0.0254</td>\n",
       "      <td>0.0526</td>\n",
       "      <td>...</td>\n",
       "      <td>-0.0062</td>\n",
       "      <td>0.0291</td>\n",
       "      <td>0.0366</td>\n",
       "      <td>0.0911</td>\n",
       "      <td>0.0364</td>\n",
       "      <td>0.0277</td>\n",
       "      <td>0.0352</td>\n",
       "      <td>-0.0423</td>\n",
       "      <td>0.0004</td>\n",
       "      <td>0.0333</td>\n",
       "    </tr>\n",
       "    <tr>\n",
       "      <th>2018-09</th>\n",
       "      <td>-0.0392</td>\n",
       "      <td>-0.0220</td>\n",
       "      <td>0.0310</td>\n",
       "      <td>0.0019</td>\n",
       "      <td>0.0537</td>\n",
       "      <td>0.0717</td>\n",
       "      <td>-0.0075</td>\n",
       "      <td>-0.0209</td>\n",
       "      <td>0.0107</td>\n",
       "      <td>0.0130</td>\n",
       "      <td>...</td>\n",
       "      <td>0.0189</td>\n",
       "      <td>0.0105</td>\n",
       "      <td>-0.0148</td>\n",
       "      <td>0.0061</td>\n",
       "      <td>0.0251</td>\n",
       "      <td>-0.0282</td>\n",
       "      <td>0.0116</td>\n",
       "      <td>-0.0492</td>\n",
       "      <td>-0.0340</td>\n",
       "      <td>0.0068</td>\n",
       "    </tr>\n",
       "    <tr>\n",
       "      <th>2018-10</th>\n",
       "      <td>-0.0197</td>\n",
       "      <td>0.0095</td>\n",
       "      <td>0.0118</td>\n",
       "      <td>-0.0157</td>\n",
       "      <td>0.0790</td>\n",
       "      <td>-0.1504</td>\n",
       "      <td>-0.1605</td>\n",
       "      <td>-0.0569</td>\n",
       "      <td>-0.0051</td>\n",
       "      <td>-0.1014</td>\n",
       "      <td>...</td>\n",
       "      <td>-0.1100</td>\n",
       "      <td>-0.0975</td>\n",
       "      <td>-0.0788</td>\n",
       "      <td>-0.1021</td>\n",
       "      <td>-0.0171</td>\n",
       "      <td>-0.0613</td>\n",
       "      <td>-0.0413</td>\n",
       "      <td>-0.1213</td>\n",
       "      <td>-0.0455</td>\n",
       "      <td>-0.0515</td>\n",
       "    </tr>\n",
       "    <tr>\n",
       "      <th>2018-11</th>\n",
       "      <td>-0.0357</td>\n",
       "      <td>0.0029</td>\n",
       "      <td>0.0684</td>\n",
       "      <td>0.0579</td>\n",
       "      <td>-0.0843</td>\n",
       "      <td>-0.0715</td>\n",
       "      <td>-0.0001</td>\n",
       "      <td>0.0375</td>\n",
       "      <td>0.0644</td>\n",
       "      <td>-0.0099</td>\n",
       "      <td>...</td>\n",
       "      <td>0.1021</td>\n",
       "      <td>0.0617</td>\n",
       "      <td>0.0318</td>\n",
       "      <td>0.0159</td>\n",
       "      <td>0.0616</td>\n",
       "      <td>0.0292</td>\n",
       "      <td>0.0432</td>\n",
       "      <td>0.0715</td>\n",
       "      <td>0.0006</td>\n",
       "      <td>0.0355</td>\n",
       "    </tr>\n",
       "    <tr>\n",
       "      <th>2018-12</th>\n",
       "      <td>-0.1093</td>\n",
       "      <td>-0.1093</td>\n",
       "      <td>-0.0783</td>\n",
       "      <td>-0.0969</td>\n",
       "      <td>-0.1580</td>\n",
       "      <td>-0.1635</td>\n",
       "      <td>-0.0750</td>\n",
       "      <td>-0.1442</td>\n",
       "      <td>-0.0557</td>\n",
       "      <td>-0.0728</td>\n",
       "      <td>...</td>\n",
       "      <td>-0.1248</td>\n",
       "      <td>-0.1519</td>\n",
       "      <td>-0.1121</td>\n",
       "      <td>-0.0919</td>\n",
       "      <td>-0.0628</td>\n",
       "      <td>-0.1279</td>\n",
       "      <td>-0.0985</td>\n",
       "      <td>-0.1172</td>\n",
       "      <td>-0.0874</td>\n",
       "      <td>-0.0654</td>\n",
       "    </tr>\n",
       "  </tbody>\n",
       "</table>\n",
       "<p>5 rows × 49 columns</p>\n",
       "</div>"
      ],
      "text/plain": [
       "          Agric    Food    Soda    Beer   Smoke    Toys     Fun   Books  \\\n",
       "2018-08  0.0715  0.0114 -0.0308 -0.0186 -0.0543  0.0738  0.0250 -0.0463   \n",
       "2018-09 -0.0392 -0.0220  0.0310  0.0019  0.0537  0.0717 -0.0075 -0.0209   \n",
       "2018-10 -0.0197  0.0095  0.0118 -0.0157  0.0790 -0.1504 -0.1605 -0.0569   \n",
       "2018-11 -0.0357  0.0029  0.0684  0.0579 -0.0843 -0.0715 -0.0001  0.0375   \n",
       "2018-12 -0.1093 -0.1093 -0.0783 -0.0969 -0.1580 -0.1635 -0.0750 -0.1442   \n",
       "\n",
       "          Hshld   Clths  ...   Boxes   Trans   Whlsl   Rtail   Meals   Banks  \\\n",
       "2018-08  0.0254  0.0526  ... -0.0062  0.0291  0.0366  0.0911  0.0364  0.0277   \n",
       "2018-09  0.0107  0.0130  ...  0.0189  0.0105 -0.0148  0.0061  0.0251 -0.0282   \n",
       "2018-10 -0.0051 -0.1014  ... -0.1100 -0.0975 -0.0788 -0.1021 -0.0171 -0.0613   \n",
       "2018-11  0.0644 -0.0099  ...  0.1021  0.0617  0.0318  0.0159  0.0616  0.0292   \n",
       "2018-12 -0.0557 -0.0728  ... -0.1248 -0.1519 -0.1121 -0.0919 -0.0628 -0.1279   \n",
       "\n",
       "          Insur   RlEst     Fin   Other  \n",
       "2018-08  0.0352 -0.0423  0.0004  0.0333  \n",
       "2018-09  0.0116 -0.0492 -0.0340  0.0068  \n",
       "2018-10 -0.0413 -0.1213 -0.0455 -0.0515  \n",
       "2018-11  0.0432  0.0715  0.0006  0.0355  \n",
       "2018-12 -0.0985 -0.1172 -0.0874 -0.0654  \n",
       "\n",
       "[5 rows x 49 columns]"
      ]
     },
     "execution_count": 3,
     "metadata": {},
     "output_type": "execute_result"
    }
   ],
   "source": [
    "ind_rets = erk.get_ind_file(filetype=\"rets\", nind=49).loc[\"2014\":\"2018\",]\n",
    "ind_rets.tail()"
   ]
  },
  {
   "cell_type": "code",
   "execution_count": 39,
   "metadata": {},
   "outputs": [
    {
     "data": {
      "text/plain": [
       "Agric    0.003195\n",
       "Food     0.016964\n",
       "Soda     0.009687\n",
       "Beer     0.008478\n",
       "Smoke    0.012581\n",
       "Toys     0.001497\n",
       "Fun      0.007838\n",
       "Books    0.000974\n",
       "Hshld    0.020731\n",
       "Clths    0.009513\n",
       "Hlth     0.004713\n",
       "MedEq    0.013895\n",
       "Drugs    0.082970\n",
       "Chems    0.019345\n",
       "Rubbr    0.001834\n",
       "Txtls    0.000970\n",
       "BldMt    0.004366\n",
       "Cnstr    0.006153\n",
       "Steel    0.003572\n",
       "FabPr    0.000271\n",
       "Mach     0.023140\n",
       "ElcEq    0.005911\n",
       "Autos    0.013947\n",
       "Aero     0.013772\n",
       "Ships    0.000860\n",
       "Guns     0.002698\n",
       "Gold     0.000686\n",
       "Mines    0.003975\n",
       "Coal     0.000893\n",
       "Oil      0.075920\n",
       "Util     0.032890\n",
       "Telcm    0.054935\n",
       "PerSv    0.003217\n",
       "BusSv    0.019899\n",
       "Hardw    0.016487\n",
       "Softw    0.095938\n",
       "Chips    0.058337\n",
       "LabEq    0.012937\n",
       "Paper    0.010371\n",
       "Boxes    0.002065\n",
       "Trans    0.021903\n",
       "Whlsl    0.012734\n",
       "Rtail    0.067461\n",
       "Meals    0.015058\n",
       "Banks    0.087880\n",
       "Insur    0.040513\n",
       "RlEst    0.002009\n",
       "Fin      0.024015\n",
       "Other    0.050001\n",
       "Name: 2014-01, dtype: float64"
      ]
     },
     "execution_count": 39,
     "metadata": {},
     "output_type": "execute_result"
    }
   ],
   "source": [
    "\n",
    "mkt_caps = erk.get_ind_market_caps(nind=49, weights=True).loc[\"2014\",]\n",
    "mkt_caps = mkt_caps/mkt_caps.sum()\n",
    "mkt_caps"
   ]
  },
  {
   "cell_type": "code",
   "execution_count": 40,
   "metadata": {},
   "outputs": [
    {
     "name": "stdout",
     "output_type": "stream",
     "text": [
      "Gold 9.561194509478127e-05\n",
      "Banks 0.10406010634326318\n"
     ]
    }
   ],
   "source": [
    "# 1, 2\n",
    "cw_rc = erk.portfolio_risk_contributions(mkt_caps, ind_rets.cov())\n",
    "cw_rc = cw_rc.sort_values()\n",
    "cw_rc\n",
    "print(cw_rc.index[0], cw_rc.values[0])\n",
    "print(cw_rc.index[-1], cw_rc.values[-1])"
   ]
  },
  {
   "cell_type": "code",
   "execution_count": 41,
   "metadata": {},
   "outputs": [
    {
     "name": "stdout",
     "output_type": "stream",
     "text": [
      "Util 0.005915906346269965\n",
      "Steel 0.030937663971181445\n"
     ]
    }
   ],
   "source": [
    "# 3, 4\n",
    "ew_rc = erk.portfolio_risk_contributions(erk.weight_ew(ind_rets), ind_rets.cov())\n",
    "ew_rc = ew_rc.sort_values()\n",
    "ew_rc\n",
    "print(ew_rc.index[0], ew_rc.values[0])\n",
    "print(ew_rc.index[-1], ew_rc.values[-1])"
   ]
  },
  {
   "cell_type": "code",
   "execution_count": 42,
   "metadata": {},
   "outputs": [
    {
     "name": "stdout",
     "output_type": "stream",
     "text": [
      "Steel 0.012809105063516487\n",
      "Util 0.05215573493232638\n"
     ]
    }
   ],
   "source": [
    "# 5-8\n",
    "rpw = erk.risk_parity_weigths(ind_rets.cov()).sort_values()\n",
    "print(rpw.index[0], rpw.values[0])\n",
    "print(rpw.index[-1], rpw.values[-1])"
   ]
  },
  {
   "cell_type": "code",
   "execution_count": 24,
   "metadata": {},
   "outputs": [
    {
     "data": {
      "text/plain": [
       "0.1039644943981684"
      ]
     },
     "execution_count": 24,
     "metadata": {},
     "output_type": "execute_result"
    }
   ],
   "source": [
    "# 9\n",
    "cw_rc[len(cw_rc)-1] - cw_rc[0]"
   ]
  },
  {
   "cell_type": "code",
   "execution_count": 25,
   "metadata": {},
   "outputs": [
    {
     "data": {
      "text/plain": [
       "0.02502175762491148"
      ]
     },
     "execution_count": 25,
     "metadata": {},
     "output_type": "execute_result"
    }
   ],
   "source": [
    "# 10\n",
    "ew_rc[len(ew_rc)-1] - ew_rc[0]"
   ]
  },
  {
   "cell_type": "code",
   "execution_count": null,
   "metadata": {},
   "outputs": [],
   "source": []
  }
 ],
 "metadata": {
  "kernelspec": {
   "display_name": "Python 3",
   "language": "python",
   "name": "python3"
  },
  "language_info": {
   "codemirror_mode": {
    "name": "ipython",
    "version": 3
   },
   "file_extension": ".py",
   "mimetype": "text/x-python",
   "name": "python",
   "nbconvert_exporter": "python",
   "pygments_lexer": "ipython3",
   "version": "3.7.3"
  }
 },
 "nbformat": 4,
 "nbformat_minor": 4
}
