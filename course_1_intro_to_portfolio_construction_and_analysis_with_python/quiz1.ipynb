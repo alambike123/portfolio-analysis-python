{
 "cells": [
  {
   "cell_type": "code",
   "execution_count": 30,
   "metadata": {},
   "outputs": [],
   "source": [
    "import pandas as pd\n",
    "import numpy as np\n",
    "import matplotlib.pyplot as plt\n",
    "import scipy.stats \n",
    "plt.style.use(\"seaborn-dark\")  \n",
    "import sys\n",
    "sys.path.append(\"../\")\n",
    "import edhec_risk_kit as erk"
   ]
  },
  {
   "cell_type": "code",
   "execution_count": 31,
   "metadata": {},
   "outputs": [],
   "source": [
    "file_to_load = \"../data/Portfolios_Formed_on_ME_monthly_EW.csv\"\n",
    "df = pd.read_csv(file_to_load, index_col=0, parse_dates=True, na_values=-99.99)\n",
    "df.head()\n",
    "df.index = pd.to_datetime(df.index, format=\"%Y%m\")"
   ]
  },
  {
   "cell_type": "markdown",
   "metadata": {},
   "source": [
    "### 1-4"
   ]
  },
  {
   "cell_type": "code",
   "execution_count": 32,
   "metadata": {},
   "outputs": [
    {
     "data": {
      "text/html": [
       "<div>\n",
       "<style scoped>\n",
       "    .dataframe tbody tr th:only-of-type {\n",
       "        vertical-align: middle;\n",
       "    }\n",
       "\n",
       "    .dataframe tbody tr th {\n",
       "        vertical-align: top;\n",
       "    }\n",
       "\n",
       "    .dataframe thead th {\n",
       "        text-align: right;\n",
       "    }\n",
       "</style>\n",
       "<table border=\"1\" class=\"dataframe\">\n",
       "  <thead>\n",
       "    <tr style=\"text-align: right;\">\n",
       "      <th></th>\n",
       "      <th>Lo 20</th>\n",
       "      <th>Hi 20</th>\n",
       "    </tr>\n",
       "  </thead>\n",
       "  <tbody>\n",
       "    <tr>\n",
       "      <th>1926-07-01</th>\n",
       "      <td>-0.0057</td>\n",
       "      <td>0.0333</td>\n",
       "    </tr>\n",
       "    <tr>\n",
       "      <th>1926-08-01</th>\n",
       "      <td>0.0384</td>\n",
       "      <td>0.0233</td>\n",
       "    </tr>\n",
       "    <tr>\n",
       "      <th>1926-09-01</th>\n",
       "      <td>-0.0048</td>\n",
       "      <td>-0.0009</td>\n",
       "    </tr>\n",
       "    <tr>\n",
       "      <th>1926-10-01</th>\n",
       "      <td>-0.0329</td>\n",
       "      <td>-0.0295</td>\n",
       "    </tr>\n",
       "    <tr>\n",
       "      <th>1926-11-01</th>\n",
       "      <td>-0.0055</td>\n",
       "      <td>0.0316</td>\n",
       "    </tr>\n",
       "  </tbody>\n",
       "</table>\n",
       "</div>"
      ],
      "text/plain": [
       "             Lo 20   Hi 20\n",
       "1926-07-01 -0.0057  0.0333\n",
       "1926-08-01  0.0384  0.0233\n",
       "1926-09-01 -0.0048 -0.0009\n",
       "1926-10-01 -0.0329 -0.0295\n",
       "1926-11-01 -0.0055  0.0316"
      ]
     },
     "execution_count": 32,
     "metadata": {},
     "output_type": "execute_result"
    }
   ],
   "source": [
    "dff = df[[\"Lo 20\", \"Hi 20\"]] / 100\n",
    "dff.head()"
   ]
  },
  {
   "cell_type": "code",
   "execution_count": 33,
   "metadata": {},
   "outputs": [
    {
     "data": {
      "text/plain": [
       "Lo 20    0.151977\n",
       "Hi 20    0.098490\n",
       "dtype: float64"
      ]
     },
     "execution_count": 33,
     "metadata": {},
     "output_type": "execute_result"
    }
   ],
   "source": [
    "# ANNUAL RETURN\n",
    "nmonths = dff.shape[0]\n",
    "annulized_return = ((dff+1).prod())**(12/nmonths)-1\n",
    "annulized_return "
   ]
  },
  {
   "cell_type": "code",
   "execution_count": 34,
   "metadata": {},
   "outputs": [
    {
     "data": {
      "text/plain": [
       "Lo 20    0.336701\n",
       "Hi 20    0.195116\n",
       "dtype: float64"
      ]
     },
     "execution_count": 34,
     "metadata": {},
     "output_type": "execute_result"
    }
   ],
   "source": [
    "# ANNUAL VOL\n",
    "vol = dff.std()\n",
    "annualized_vol = vol * np.sqrt(12)\n",
    "annualized_vol"
   ]
  },
  {
   "cell_type": "markdown",
   "metadata": {},
   "source": [
    "### 5-8"
   ]
  },
  {
   "cell_type": "code",
   "execution_count": 35,
   "metadata": {},
   "outputs": [
    {
     "data": {
      "text/html": [
       "<div>\n",
       "<style scoped>\n",
       "    .dataframe tbody tr th:only-of-type {\n",
       "        vertical-align: middle;\n",
       "    }\n",
       "\n",
       "    .dataframe tbody tr th {\n",
       "        vertical-align: top;\n",
       "    }\n",
       "\n",
       "    .dataframe thead th {\n",
       "        text-align: right;\n",
       "    }\n",
       "</style>\n",
       "<table border=\"1\" class=\"dataframe\">\n",
       "  <thead>\n",
       "    <tr style=\"text-align: right;\">\n",
       "      <th></th>\n",
       "      <th>Lo 20</th>\n",
       "      <th>Hi 20</th>\n",
       "    </tr>\n",
       "  </thead>\n",
       "  <tbody>\n",
       "    <tr>\n",
       "      <th>2015-08-01</th>\n",
       "      <td>-0.0347</td>\n",
       "      <td>-0.0559</td>\n",
       "    </tr>\n",
       "    <tr>\n",
       "      <th>2015-09-01</th>\n",
       "      <td>-0.0610</td>\n",
       "      <td>-0.0333</td>\n",
       "    </tr>\n",
       "    <tr>\n",
       "      <th>2015-10-01</th>\n",
       "      <td>0.0385</td>\n",
       "      <td>0.0710</td>\n",
       "    </tr>\n",
       "    <tr>\n",
       "      <th>2015-11-01</th>\n",
       "      <td>0.0165</td>\n",
       "      <td>0.0015</td>\n",
       "    </tr>\n",
       "    <tr>\n",
       "      <th>2015-12-01</th>\n",
       "      <td>-0.0500</td>\n",
       "      <td>-0.0229</td>\n",
       "    </tr>\n",
       "  </tbody>\n",
       "</table>\n",
       "</div>"
      ],
      "text/plain": [
       "             Lo 20   Hi 20\n",
       "2015-08-01 -0.0347 -0.0559\n",
       "2015-09-01 -0.0610 -0.0333\n",
       "2015-10-01  0.0385  0.0710\n",
       "2015-11-01  0.0165  0.0015\n",
       "2015-12-01 -0.0500 -0.0229"
      ]
     },
     "execution_count": 35,
     "metadata": {},
     "output_type": "execute_result"
    }
   ],
   "source": [
    "dff_9905 = df[\"1999\":\"2015\"][[\"Lo 20\", \"Hi 20\"]] / 100\n",
    "dff_9905.tail()"
   ]
  },
  {
   "cell_type": "code",
   "execution_count": 36,
   "metadata": {},
   "outputs": [
    {
     "data": {
      "text/plain": [
       "Lo 20    0.114426\n",
       "Hi 20    0.062865\n",
       "dtype: float64"
      ]
     },
     "execution_count": 36,
     "metadata": {},
     "output_type": "execute_result"
    }
   ],
   "source": [
    "# ANNUAL RETURN\n",
    "nmonths = dff_9905.shape[0]\n",
    "annulized_return = ((dff_9905+1).prod())**(12/nmonths)-1\n",
    "annulized_return "
   ]
  },
  {
   "cell_type": "code",
   "execution_count": 37,
   "metadata": {},
   "outputs": [
    {
     "data": {
      "text/plain": [
       "Lo 20    0.228894\n",
       "Hi 20    0.172713\n",
       "dtype: float64"
      ]
     },
     "execution_count": 37,
     "metadata": {},
     "output_type": "execute_result"
    }
   ],
   "source": [
    "# ANNUAL VOL\n",
    "vol = dff_9905.std()\n",
    "annualized_vol = vol * np.sqrt(12)\n",
    "annualized_vol"
   ]
  },
  {
   "cell_type": "markdown",
   "metadata": {},
   "source": [
    "## 9-12"
   ]
  },
  {
   "cell_type": "code",
   "execution_count": 9,
   "metadata": {},
   "outputs": [
    {
     "data": {
      "text/html": [
       "<div>\n",
       "<style scoped>\n",
       "    .dataframe tbody tr th:only-of-type {\n",
       "        vertical-align: middle;\n",
       "    }\n",
       "\n",
       "    .dataframe tbody tr th {\n",
       "        vertical-align: top;\n",
       "    }\n",
       "\n",
       "    .dataframe thead th {\n",
       "        text-align: right;\n",
       "    }\n",
       "</style>\n",
       "<table border=\"1\" class=\"dataframe\">\n",
       "  <thead>\n",
       "    <tr style=\"text-align: right;\">\n",
       "      <th></th>\n",
       "      <th>Lo 20</th>\n",
       "      <th>Hi 20</th>\n",
       "    </tr>\n",
       "  </thead>\n",
       "  <tbody>\n",
       "    <tr>\n",
       "      <th>1926-07-01</th>\n",
       "      <td>99.430000</td>\n",
       "      <td>103.330000</td>\n",
       "    </tr>\n",
       "    <tr>\n",
       "      <th>1926-08-01</th>\n",
       "      <td>103.248112</td>\n",
       "      <td>105.737589</td>\n",
       "    </tr>\n",
       "    <tr>\n",
       "      <th>1926-09-01</th>\n",
       "      <td>102.752521</td>\n",
       "      <td>105.642425</td>\n",
       "    </tr>\n",
       "    <tr>\n",
       "      <th>1926-10-01</th>\n",
       "      <td>99.371963</td>\n",
       "      <td>102.525974</td>\n",
       "    </tr>\n",
       "    <tr>\n",
       "      <th>1926-11-01</th>\n",
       "      <td>98.825417</td>\n",
       "      <td>105.765794</td>\n",
       "    </tr>\n",
       "  </tbody>\n",
       "</table>\n",
       "</div>"
      ],
      "text/plain": [
       "                 Lo 20       Hi 20\n",
       "1926-07-01   99.430000  103.330000\n",
       "1926-08-01  103.248112  105.737589\n",
       "1926-09-01  102.752521  105.642425\n",
       "1926-10-01   99.371963  102.525974\n",
       "1926-11-01   98.825417  105.765794"
      ]
     },
     "execution_count": 9,
     "metadata": {},
     "output_type": "execute_result"
    }
   ],
   "source": [
    "rets = df[[\"Lo 20\", \"Hi 20\"]] / 100\n",
    "wealth_index = 100 * (1 + rets).cumprod()\n",
    "wealth_index.head()"
   ]
  },
  {
   "cell_type": "code",
   "execution_count": 10,
   "metadata": {},
   "outputs": [],
   "source": [
    "def cal_drawdown(return_series: pd.Series):\n",
    "    \"\"\"\n",
    "    Takes a time series of asset returns\n",
    "    Computer and returns a DataFrame thhat contains:\n",
    "    the wealth index\n",
    "    the previous index\n",
    "    percent drawdowns\n",
    "    \"\"\"\n",
    "    wealth_index = 1000*(1+return_series).cumprod()\n",
    "    previous_peaks = wealth_index.cummax()\n",
    "    drawdowns = (wealth_index-previous_peaks)/previous_peaks\n",
    "    return pd.DataFrame({\n",
    "        \"Wealth\": wealth_index,\n",
    "        \"Peaks\": previous_peaks,\n",
    "        \"Drawdown\": drawdowns\n",
    "    })"
   ]
  },
  {
   "cell_type": "code",
   "execution_count": 11,
   "metadata": {},
   "outputs": [
    {
     "name": "stdout",
     "output_type": "stream",
     "text": [
      "Lo 20:\n",
      "Drawdown   -0.624809\n",
      "dtype: float64\n",
      "Drawdown   2009-02-01\n",
      "dtype: datetime64[ns]\n",
      "Hi 20:\n",
      "Drawdown   -0.552735\n",
      "dtype: float64\n",
      "Drawdown   2009-02-01\n",
      "dtype: datetime64[ns]\n"
     ]
    }
   ],
   "source": [
    "print(\"Lo 20:\")\n",
    "print(cal_drawdown(rets[\"1999\":\"2015\"]['Lo 20'])[[\"Drawdown\"]].min())\n",
    "print(cal_drawdown(rets[\"1999\":\"2015\"]['Lo 20'])[[\"Drawdown\"]].idxmin())\n",
    "print(\"Hi 20:\")\n",
    "print(cal_drawdown(rets[\"1999\":\"2015\"]['Hi 20'])[[\"Drawdown\"]].min())\n",
    "print(cal_drawdown(rets[\"1999\":\"2015\"]['Hi 20'])[[\"Drawdown\"]].idxmin())"
   ]
  },
  {
   "cell_type": "markdown",
   "metadata": {},
   "source": [
    "### 13-16"
   ]
  },
  {
   "cell_type": "code",
   "execution_count": 9,
   "metadata": {},
   "outputs": [
    {
     "data": {
      "text/html": [
       "<div>\n",
       "<style scoped>\n",
       "    .dataframe tbody tr th:only-of-type {\n",
       "        vertical-align: middle;\n",
       "    }\n",
       "\n",
       "    .dataframe tbody tr th {\n",
       "        vertical-align: top;\n",
       "    }\n",
       "\n",
       "    .dataframe thead th {\n",
       "        text-align: right;\n",
       "    }\n",
       "</style>\n",
       "<table border=\"1\" class=\"dataframe\">\n",
       "  <thead>\n",
       "    <tr style=\"text-align: right;\">\n",
       "      <th></th>\n",
       "      <th>Convertible Arbitrage</th>\n",
       "      <th>CTA Global</th>\n",
       "      <th>Distressed Securities</th>\n",
       "      <th>Emerging Markets</th>\n",
       "      <th>Equity Market Neutral</th>\n",
       "      <th>Event Driven</th>\n",
       "      <th>Fixed Income Arbitrage</th>\n",
       "      <th>Global Macro</th>\n",
       "      <th>Long/Short Equity</th>\n",
       "      <th>Merger Arbitrage</th>\n",
       "      <th>Relative Value</th>\n",
       "      <th>Short Selling</th>\n",
       "      <th>Funds Of Funds</th>\n",
       "    </tr>\n",
       "    <tr>\n",
       "      <th>date</th>\n",
       "      <th></th>\n",
       "      <th></th>\n",
       "      <th></th>\n",
       "      <th></th>\n",
       "      <th></th>\n",
       "      <th></th>\n",
       "      <th></th>\n",
       "      <th></th>\n",
       "      <th></th>\n",
       "      <th></th>\n",
       "      <th></th>\n",
       "      <th></th>\n",
       "      <th></th>\n",
       "    </tr>\n",
       "  </thead>\n",
       "  <tbody>\n",
       "    <tr>\n",
       "      <th>2009-01-31</th>\n",
       "      <td>0.0491</td>\n",
       "      <td>-0.0016</td>\n",
       "      <td>0.0082</td>\n",
       "      <td>-0.0112</td>\n",
       "      <td>0.0079</td>\n",
       "      <td>0.0132</td>\n",
       "      <td>0.0112</td>\n",
       "      <td>0.0029</td>\n",
       "      <td>-0.0017</td>\n",
       "      <td>0.0056</td>\n",
       "      <td>0.0100</td>\n",
       "      <td>0.0282</td>\n",
       "      <td>0.0060</td>\n",
       "    </tr>\n",
       "    <tr>\n",
       "      <th>2009-02-28</th>\n",
       "      <td>0.0164</td>\n",
       "      <td>-0.0031</td>\n",
       "      <td>-0.0122</td>\n",
       "      <td>-0.0133</td>\n",
       "      <td>-0.0046</td>\n",
       "      <td>-0.0091</td>\n",
       "      <td>0.0065</td>\n",
       "      <td>-0.0055</td>\n",
       "      <td>-0.0161</td>\n",
       "      <td>0.0006</td>\n",
       "      <td>-0.0016</td>\n",
       "      <td>0.0328</td>\n",
       "      <td>-0.0037</td>\n",
       "    </tr>\n",
       "    <tr>\n",
       "      <th>2009-03-31</th>\n",
       "      <td>0.0235</td>\n",
       "      <td>-0.0180</td>\n",
       "      <td>0.0022</td>\n",
       "      <td>0.0350</td>\n",
       "      <td>0.0021</td>\n",
       "      <td>0.0117</td>\n",
       "      <td>0.0057</td>\n",
       "      <td>0.0048</td>\n",
       "      <td>0.0188</td>\n",
       "      <td>0.0125</td>\n",
       "      <td>0.0100</td>\n",
       "      <td>-0.0462</td>\n",
       "      <td>0.0008</td>\n",
       "    </tr>\n",
       "    <tr>\n",
       "      <th>2009-04-30</th>\n",
       "      <td>0.0500</td>\n",
       "      <td>-0.0140</td>\n",
       "      <td>0.0387</td>\n",
       "      <td>0.0663</td>\n",
       "      <td>-0.0012</td>\n",
       "      <td>0.0337</td>\n",
       "      <td>0.0221</td>\n",
       "      <td>0.0127</td>\n",
       "      <td>0.0375</td>\n",
       "      <td>0.0081</td>\n",
       "      <td>0.0342</td>\n",
       "      <td>-0.0820</td>\n",
       "      <td>0.0092</td>\n",
       "    </tr>\n",
       "    <tr>\n",
       "      <th>2009-05-31</th>\n",
       "      <td>0.0578</td>\n",
       "      <td>0.0213</td>\n",
       "      <td>0.0504</td>\n",
       "      <td>0.0884</td>\n",
       "      <td>0.0146</td>\n",
       "      <td>0.0442</td>\n",
       "      <td>0.0365</td>\n",
       "      <td>0.0348</td>\n",
       "      <td>0.0516</td>\n",
       "      <td>0.0107</td>\n",
       "      <td>0.0392</td>\n",
       "      <td>0.0008</td>\n",
       "      <td>0.0312</td>\n",
       "    </tr>\n",
       "  </tbody>\n",
       "</table>\n",
       "</div>"
      ],
      "text/plain": [
       "            Convertible Arbitrage  CTA Global  Distressed Securities  \\\n",
       "date                                                                   \n",
       "2009-01-31                 0.0491     -0.0016                 0.0082   \n",
       "2009-02-28                 0.0164     -0.0031                -0.0122   \n",
       "2009-03-31                 0.0235     -0.0180                 0.0022   \n",
       "2009-04-30                 0.0500     -0.0140                 0.0387   \n",
       "2009-05-31                 0.0578      0.0213                 0.0504   \n",
       "\n",
       "            Emerging Markets  Equity Market Neutral  Event Driven  \\\n",
       "date                                                                \n",
       "2009-01-31           -0.0112                 0.0079        0.0132   \n",
       "2009-02-28           -0.0133                -0.0046       -0.0091   \n",
       "2009-03-31            0.0350                 0.0021        0.0117   \n",
       "2009-04-30            0.0663                -0.0012        0.0337   \n",
       "2009-05-31            0.0884                 0.0146        0.0442   \n",
       "\n",
       "            Fixed Income Arbitrage  Global Macro  Long/Short Equity  \\\n",
       "date                                                                  \n",
       "2009-01-31                  0.0112        0.0029            -0.0017   \n",
       "2009-02-28                  0.0065       -0.0055            -0.0161   \n",
       "2009-03-31                  0.0057        0.0048             0.0188   \n",
       "2009-04-30                  0.0221        0.0127             0.0375   \n",
       "2009-05-31                  0.0365        0.0348             0.0516   \n",
       "\n",
       "            Merger Arbitrage  Relative Value  Short Selling  Funds Of Funds  \n",
       "date                                                                         \n",
       "2009-01-31            0.0056          0.0100         0.0282          0.0060  \n",
       "2009-02-28            0.0006         -0.0016         0.0328         -0.0037  \n",
       "2009-03-31            0.0125          0.0100        -0.0462          0.0008  \n",
       "2009-04-30            0.0081          0.0342        -0.0820          0.0092  \n",
       "2009-05-31            0.0107          0.0392         0.0008          0.0312  "
      ]
     },
     "execution_count": 9,
     "metadata": {},
     "output_type": "execute_result"
    }
   ],
   "source": [
    "hfi = erk.get_hfi_returns()[\"2009\":\"2018\"]\n",
    "hfi.head()"
   ]
  },
  {
   "cell_type": "code",
   "execution_count": 11,
   "metadata": {},
   "outputs": [],
   "source": [
    "seminv = erk.semivolatility( hfi )"
   ]
  },
  {
   "cell_type": "code",
   "execution_count": 12,
   "metadata": {},
   "outputs": [
    {
     "data": {
      "text/plain": [
       "'Fixed Income Arbitrage'"
      ]
     },
     "execution_count": 12,
     "metadata": {},
     "output_type": "execute_result"
    }
   ],
   "source": [
    "seminv.idxmin()"
   ]
  },
  {
   "cell_type": "code",
   "execution_count": 13,
   "metadata": {},
   "outputs": [
    {
     "data": {
      "text/plain": [
       "'Short Selling'"
      ]
     },
     "execution_count": 13,
     "metadata": {},
     "output_type": "execute_result"
    }
   ],
   "source": [
    "seminv.idxmax()"
   ]
  },
  {
   "cell_type": "code",
   "execution_count": 14,
   "metadata": {},
   "outputs": [
    {
     "data": {
      "text/html": [
       "<div>\n",
       "<style scoped>\n",
       "    .dataframe tbody tr th:only-of-type {\n",
       "        vertical-align: middle;\n",
       "    }\n",
       "\n",
       "    .dataframe tbody tr th {\n",
       "        vertical-align: top;\n",
       "    }\n",
       "\n",
       "    .dataframe thead th {\n",
       "        text-align: right;\n",
       "    }\n",
       "</style>\n",
       "<table border=\"1\" class=\"dataframe\">\n",
       "  <thead>\n",
       "    <tr style=\"text-align: right;\">\n",
       "      <th></th>\n",
       "      <th>Convertible Arbitrage</th>\n",
       "      <th>CTA Global</th>\n",
       "      <th>Distressed Securities</th>\n",
       "      <th>Emerging Markets</th>\n",
       "      <th>Equity Market Neutral</th>\n",
       "      <th>Event Driven</th>\n",
       "      <th>Fixed Income Arbitrage</th>\n",
       "      <th>Global Macro</th>\n",
       "      <th>Long/Short Equity</th>\n",
       "      <th>Merger Arbitrage</th>\n",
       "      <th>Relative Value</th>\n",
       "      <th>Short Selling</th>\n",
       "      <th>Funds Of Funds</th>\n",
       "    </tr>\n",
       "    <tr>\n",
       "      <th>date</th>\n",
       "      <th></th>\n",
       "      <th></th>\n",
       "      <th></th>\n",
       "      <th></th>\n",
       "      <th></th>\n",
       "      <th></th>\n",
       "      <th></th>\n",
       "      <th></th>\n",
       "      <th></th>\n",
       "      <th></th>\n",
       "      <th></th>\n",
       "      <th></th>\n",
       "      <th></th>\n",
       "    </tr>\n",
       "  </thead>\n",
       "  <tbody>\n",
       "    <tr>\n",
       "      <th>2009-01-31</th>\n",
       "      <td>0.0491</td>\n",
       "      <td>-0.0016</td>\n",
       "      <td>0.0082</td>\n",
       "      <td>-0.0112</td>\n",
       "      <td>0.0079</td>\n",
       "      <td>0.0132</td>\n",
       "      <td>0.0112</td>\n",
       "      <td>0.0029</td>\n",
       "      <td>-0.0017</td>\n",
       "      <td>0.0056</td>\n",
       "      <td>0.0100</td>\n",
       "      <td>0.0282</td>\n",
       "      <td>0.0060</td>\n",
       "    </tr>\n",
       "    <tr>\n",
       "      <th>2009-02-28</th>\n",
       "      <td>0.0164</td>\n",
       "      <td>-0.0031</td>\n",
       "      <td>-0.0122</td>\n",
       "      <td>-0.0133</td>\n",
       "      <td>-0.0046</td>\n",
       "      <td>-0.0091</td>\n",
       "      <td>0.0065</td>\n",
       "      <td>-0.0055</td>\n",
       "      <td>-0.0161</td>\n",
       "      <td>0.0006</td>\n",
       "      <td>-0.0016</td>\n",
       "      <td>0.0328</td>\n",
       "      <td>-0.0037</td>\n",
       "    </tr>\n",
       "    <tr>\n",
       "      <th>2009-03-31</th>\n",
       "      <td>0.0235</td>\n",
       "      <td>-0.0180</td>\n",
       "      <td>0.0022</td>\n",
       "      <td>0.0350</td>\n",
       "      <td>0.0021</td>\n",
       "      <td>0.0117</td>\n",
       "      <td>0.0057</td>\n",
       "      <td>0.0048</td>\n",
       "      <td>0.0188</td>\n",
       "      <td>0.0125</td>\n",
       "      <td>0.0100</td>\n",
       "      <td>-0.0462</td>\n",
       "      <td>0.0008</td>\n",
       "    </tr>\n",
       "    <tr>\n",
       "      <th>2009-04-30</th>\n",
       "      <td>0.0500</td>\n",
       "      <td>-0.0140</td>\n",
       "      <td>0.0387</td>\n",
       "      <td>0.0663</td>\n",
       "      <td>-0.0012</td>\n",
       "      <td>0.0337</td>\n",
       "      <td>0.0221</td>\n",
       "      <td>0.0127</td>\n",
       "      <td>0.0375</td>\n",
       "      <td>0.0081</td>\n",
       "      <td>0.0342</td>\n",
       "      <td>-0.0820</td>\n",
       "      <td>0.0092</td>\n",
       "    </tr>\n",
       "    <tr>\n",
       "      <th>2009-05-31</th>\n",
       "      <td>0.0578</td>\n",
       "      <td>0.0213</td>\n",
       "      <td>0.0504</td>\n",
       "      <td>0.0884</td>\n",
       "      <td>0.0146</td>\n",
       "      <td>0.0442</td>\n",
       "      <td>0.0365</td>\n",
       "      <td>0.0348</td>\n",
       "      <td>0.0516</td>\n",
       "      <td>0.0107</td>\n",
       "      <td>0.0392</td>\n",
       "      <td>0.0008</td>\n",
       "      <td>0.0312</td>\n",
       "    </tr>\n",
       "  </tbody>\n",
       "</table>\n",
       "</div>"
      ],
      "text/plain": [
       "            Convertible Arbitrage  CTA Global  Distressed Securities  \\\n",
       "date                                                                   \n",
       "2009-01-31                 0.0491     -0.0016                 0.0082   \n",
       "2009-02-28                 0.0164     -0.0031                -0.0122   \n",
       "2009-03-31                 0.0235     -0.0180                 0.0022   \n",
       "2009-04-30                 0.0500     -0.0140                 0.0387   \n",
       "2009-05-31                 0.0578      0.0213                 0.0504   \n",
       "\n",
       "            Emerging Markets  Equity Market Neutral  Event Driven  \\\n",
       "date                                                                \n",
       "2009-01-31           -0.0112                 0.0079        0.0132   \n",
       "2009-02-28           -0.0133                -0.0046       -0.0091   \n",
       "2009-03-31            0.0350                 0.0021        0.0117   \n",
       "2009-04-30            0.0663                -0.0012        0.0337   \n",
       "2009-05-31            0.0884                 0.0146        0.0442   \n",
       "\n",
       "            Fixed Income Arbitrage  Global Macro  Long/Short Equity  \\\n",
       "date                                                                  \n",
       "2009-01-31                  0.0112        0.0029            -0.0017   \n",
       "2009-02-28                  0.0065       -0.0055            -0.0161   \n",
       "2009-03-31                  0.0057        0.0048             0.0188   \n",
       "2009-04-30                  0.0221        0.0127             0.0375   \n",
       "2009-05-31                  0.0365        0.0348             0.0516   \n",
       "\n",
       "            Merger Arbitrage  Relative Value  Short Selling  Funds Of Funds  \n",
       "date                                                                         \n",
       "2009-01-31            0.0056          0.0100         0.0282          0.0060  \n",
       "2009-02-28            0.0006         -0.0016         0.0328         -0.0037  \n",
       "2009-03-31            0.0125          0.0100        -0.0462          0.0008  \n",
       "2009-04-30            0.0081          0.0342        -0.0820          0.0092  \n",
       "2009-05-31            0.0107          0.0392         0.0008          0.0312  "
      ]
     },
     "execution_count": 14,
     "metadata": {},
     "output_type": "execute_result"
    }
   ],
   "source": [
    "hfi = erk.get_hfi_returns()[\"2009\":\"2018\"]\n",
    "hfi.head()"
   ]
  },
  {
   "cell_type": "code",
   "execution_count": 18,
   "metadata": {},
   "outputs": [
    {
     "data": {
      "text/plain": [
       "Convertible Arbitrage     1.305911\n",
       "CTA Global                0.052062\n",
       "Distressed Securities    -0.254944\n",
       "Emerging Markets          0.033123\n",
       "Equity Market Neutral    -0.896327\n",
       "Event Driven             -0.488821\n",
       "Fixed Income Arbitrage    1.121453\n",
       "Global Macro              0.348184\n",
       "Long/Short Equity        -0.463703\n",
       "Merger Arbitrage         -0.551065\n",
       "Relative Value            0.159953\n",
       "Short Selling             0.456518\n",
       "Funds Of Funds           -0.646908\n",
       "dtype: float64"
      ]
     },
     "metadata": {},
     "output_type": "display_data"
    },
    {
     "data": {
      "text/plain": [
       "'Equity Market Neutral'"
      ]
     },
     "execution_count": 18,
     "metadata": {},
     "output_type": "execute_result"
    }
   ],
   "source": [
    "a = hfi.aggregate( erk.skewness )\n",
    "display(a)\n",
    "a.idxmin()"
   ]
  },
  {
   "cell_type": "code",
   "execution_count": 21,
   "metadata": {},
   "outputs": [
    {
     "data": {
      "text/html": [
       "<div>\n",
       "<style scoped>\n",
       "    .dataframe tbody tr th:only-of-type {\n",
       "        vertical-align: middle;\n",
       "    }\n",
       "\n",
       "    .dataframe tbody tr th {\n",
       "        vertical-align: top;\n",
       "    }\n",
       "\n",
       "    .dataframe thead th {\n",
       "        text-align: right;\n",
       "    }\n",
       "</style>\n",
       "<table border=\"1\" class=\"dataframe\">\n",
       "  <thead>\n",
       "    <tr style=\"text-align: right;\">\n",
       "      <th></th>\n",
       "      <th>Convertible Arbitrage</th>\n",
       "      <th>CTA Global</th>\n",
       "      <th>Distressed Securities</th>\n",
       "      <th>Emerging Markets</th>\n",
       "      <th>Equity Market Neutral</th>\n",
       "      <th>Event Driven</th>\n",
       "      <th>Fixed Income Arbitrage</th>\n",
       "      <th>Global Macro</th>\n",
       "      <th>Long/Short Equity</th>\n",
       "      <th>Merger Arbitrage</th>\n",
       "      <th>Relative Value</th>\n",
       "      <th>Short Selling</th>\n",
       "      <th>Funds Of Funds</th>\n",
       "    </tr>\n",
       "    <tr>\n",
       "      <th>date</th>\n",
       "      <th></th>\n",
       "      <th></th>\n",
       "      <th></th>\n",
       "      <th></th>\n",
       "      <th></th>\n",
       "      <th></th>\n",
       "      <th></th>\n",
       "      <th></th>\n",
       "      <th></th>\n",
       "      <th></th>\n",
       "      <th></th>\n",
       "      <th></th>\n",
       "      <th></th>\n",
       "    </tr>\n",
       "  </thead>\n",
       "  <tbody>\n",
       "    <tr>\n",
       "      <th>2000-01-31</th>\n",
       "      <td>0.0227</td>\n",
       "      <td>0.0128</td>\n",
       "      <td>0.0088</td>\n",
       "      <td>0.0077</td>\n",
       "      <td>0.0075</td>\n",
       "      <td>0.0088</td>\n",
       "      <td>0.0041</td>\n",
       "      <td>0.0021</td>\n",
       "      <td>0.0075</td>\n",
       "      <td>0.0143</td>\n",
       "      <td>0.0173</td>\n",
       "      <td>0.0427</td>\n",
       "      <td>0.0169</td>\n",
       "    </tr>\n",
       "    <tr>\n",
       "      <th>2000-02-29</th>\n",
       "      <td>0.0267</td>\n",
       "      <td>-0.0022</td>\n",
       "      <td>0.0421</td>\n",
       "      <td>0.0528</td>\n",
       "      <td>0.0253</td>\n",
       "      <td>0.0346</td>\n",
       "      <td>0.0097</td>\n",
       "      <td>0.0408</td>\n",
       "      <td>0.0699</td>\n",
       "      <td>0.0239</td>\n",
       "      <td>0.0185</td>\n",
       "      <td>-0.1340</td>\n",
       "      <td>0.0666</td>\n",
       "    </tr>\n",
       "    <tr>\n",
       "      <th>2000-03-31</th>\n",
       "      <td>0.0243</td>\n",
       "      <td>-0.0138</td>\n",
       "      <td>0.0103</td>\n",
       "      <td>0.0318</td>\n",
       "      <td>0.0134</td>\n",
       "      <td>0.0069</td>\n",
       "      <td>-0.0061</td>\n",
       "      <td>-0.0104</td>\n",
       "      <td>0.0006</td>\n",
       "      <td>0.0131</td>\n",
       "      <td>0.0163</td>\n",
       "      <td>-0.0230</td>\n",
       "      <td>0.0039</td>\n",
       "    </tr>\n",
       "    <tr>\n",
       "      <th>2000-04-30</th>\n",
       "      <td>0.0223</td>\n",
       "      <td>-0.0241</td>\n",
       "      <td>-0.0101</td>\n",
       "      <td>-0.0541</td>\n",
       "      <td>0.0168</td>\n",
       "      <td>-0.0059</td>\n",
       "      <td>-0.0006</td>\n",
       "      <td>-0.0304</td>\n",
       "      <td>-0.0201</td>\n",
       "      <td>0.0188</td>\n",
       "      <td>0.0092</td>\n",
       "      <td>0.1028</td>\n",
       "      <td>-0.0269</td>\n",
       "    </tr>\n",
       "    <tr>\n",
       "      <th>2000-05-31</th>\n",
       "      <td>0.0149</td>\n",
       "      <td>0.0114</td>\n",
       "      <td>-0.0132</td>\n",
       "      <td>-0.0433</td>\n",
       "      <td>0.0062</td>\n",
       "      <td>-0.0034</td>\n",
       "      <td>0.0107</td>\n",
       "      <td>-0.0070</td>\n",
       "      <td>-0.0097</td>\n",
       "      <td>0.0146</td>\n",
       "      <td>0.0080</td>\n",
       "      <td>0.0704</td>\n",
       "      <td>-0.0122</td>\n",
       "    </tr>\n",
       "  </tbody>\n",
       "</table>\n",
       "</div>"
      ],
      "text/plain": [
       "            Convertible Arbitrage  CTA Global  Distressed Securities  \\\n",
       "date                                                                   \n",
       "2000-01-31                 0.0227      0.0128                 0.0088   \n",
       "2000-02-29                 0.0267     -0.0022                 0.0421   \n",
       "2000-03-31                 0.0243     -0.0138                 0.0103   \n",
       "2000-04-30                 0.0223     -0.0241                -0.0101   \n",
       "2000-05-31                 0.0149      0.0114                -0.0132   \n",
       "\n",
       "            Emerging Markets  Equity Market Neutral  Event Driven  \\\n",
       "date                                                                \n",
       "2000-01-31            0.0077                 0.0075        0.0088   \n",
       "2000-02-29            0.0528                 0.0253        0.0346   \n",
       "2000-03-31            0.0318                 0.0134        0.0069   \n",
       "2000-04-30           -0.0541                 0.0168       -0.0059   \n",
       "2000-05-31           -0.0433                 0.0062       -0.0034   \n",
       "\n",
       "            Fixed Income Arbitrage  Global Macro  Long/Short Equity  \\\n",
       "date                                                                  \n",
       "2000-01-31                  0.0041        0.0021             0.0075   \n",
       "2000-02-29                  0.0097        0.0408             0.0699   \n",
       "2000-03-31                 -0.0061       -0.0104             0.0006   \n",
       "2000-04-30                 -0.0006       -0.0304            -0.0201   \n",
       "2000-05-31                  0.0107       -0.0070            -0.0097   \n",
       "\n",
       "            Merger Arbitrage  Relative Value  Short Selling  Funds Of Funds  \n",
       "date                                                                         \n",
       "2000-01-31            0.0143          0.0173         0.0427          0.0169  \n",
       "2000-02-29            0.0239          0.0185        -0.1340          0.0666  \n",
       "2000-03-31            0.0131          0.0163        -0.0230          0.0039  \n",
       "2000-04-30            0.0188          0.0092         0.1028         -0.0269  \n",
       "2000-05-31            0.0146          0.0080         0.0704         -0.0122  "
      ]
     },
     "execution_count": 21,
     "metadata": {},
     "output_type": "execute_result"
    }
   ],
   "source": [
    "hfi1 = erk.get_hfi_returns()[\"2000\":\"2018\"]\n",
    "hfi1.head()"
   ]
  },
  {
   "cell_type": "code",
   "execution_count": 38,
   "metadata": {},
   "outputs": [
    {
     "data": {
      "text/plain": [
       "Convertible Arbitrage     23.001449\n",
       "CTA Global                 2.845022\n",
       "Distressed Securities      6.231720\n",
       "Emerging Markets           5.941289\n",
       "Equity Market Neutral     20.329621\n",
       "Event Driven               5.543444\n",
       "Fixed Income Arbitrage    33.378729\n",
       "Global Macro               3.653278\n",
       "Long/Short Equity          4.472589\n",
       "Merger Arbitrage           4.520785\n",
       "Relative Value            12.731096\n",
       "Short Selling              4.352758\n",
       "Funds Of Funds             7.584725\n",
       "dtype: float64"
      ]
     },
     "metadata": {},
     "output_type": "display_data"
    },
    {
     "data": {
      "text/plain": [
       "'Fixed Income Arbitrage'"
      ]
     },
     "execution_count": 38,
     "metadata": {},
     "output_type": "execute_result"
    }
   ],
   "source": [
    "b = hfi1.aggregate( erk.kurtosis )\n",
    "display(b)\n",
    "b.idxmax()"
   ]
  },
  {
   "cell_type": "code",
   "execution_count": null,
   "metadata": {},
   "outputs": [],
   "source": []
  }
 ],
 "metadata": {
  "kernelspec": {
   "display_name": "Python 3",
   "language": "python",
   "name": "python3"
  },
  "language_info": {
   "codemirror_mode": {
    "name": "ipython",
    "version": 3
   },
   "file_extension": ".py",
   "mimetype": "text/x-python",
   "name": "python",
   "nbconvert_exporter": "python",
   "pygments_lexer": "ipython3",
   "version": "3.7.3"
  }
 },
 "nbformat": 4,
 "nbformat_minor": 4
}
