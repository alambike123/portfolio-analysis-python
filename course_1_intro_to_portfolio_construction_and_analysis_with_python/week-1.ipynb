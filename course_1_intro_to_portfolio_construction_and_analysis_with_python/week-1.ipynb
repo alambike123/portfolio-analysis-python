{
 "cells": [
  {
   "cell_type": "markdown",
   "metadata": {},
   "source": [
    "# Week 1"
   ]
  },
  {
   "cell_type": "code",
   "execution_count": 1,
   "metadata": {},
   "outputs": [],
   "source": [
    "import pandas as pd\n",
    "import numpy as np\n",
    "import matplotlib.pyplot as plt\n",
    "import scipy.stats "
   ]
  },
  {
   "cell_type": "code",
   "execution_count": 2,
   "metadata": {},
   "outputs": [],
   "source": [
    "# Always reload(update) the packages\n",
    "%load_ext autoreload\n",
    "%autoreload 2\n",
    "%matplotlib inline"
   ]
  },
  {
   "cell_type": "code",
   "execution_count": 3,
   "metadata": {},
   "outputs": [],
   "source": [
    "import sys\n",
    "sys.path.append(\"../\")\n",
    "import edhec_risk_kit as erk"
   ]
  },
  {
   "cell_type": "code",
   "execution_count": 4,
   "metadata": {},
   "outputs": [],
   "source": [
    "# using seaborn style (type plt.style.available to see available styles)\n",
    "plt.style.use(\"seaborn-dark\")  "
   ]
  },
  {
   "cell_type": "code",
   "execution_count": 5,
   "metadata": {},
   "outputs": [],
   "source": [
    "relative_path = \"../data/\""
   ]
  },
  {
   "cell_type": "markdown",
   "metadata": {},
   "source": [
    "### Returns\n",
    "\n",
    "Definition of simple (price) **return**: how much we gain (or loose) from the price at time $t+1$ and the price at time $t$. \n",
    "That is:\n",
    "$$\n",
    "P_{t+1} = P_{t} + R_{t,t+1}P_{t} = P_{t}(1+R_{t,t+1})\n",
    "\\qquad\\Longrightarrow\\qquad \n",
    "R_{t,t+1} := \\frac{P_{t+1} - P_t}{P_{t}} = \\frac{P_{t+1}}{P_t} - 1. \n",
    "$$\n",
    "\n",
    "For example, $P_t=\\$100$ and $P_{t+1}=\\$104$. Hence $R_{t,t+1}=104/100-1=0.04=4\\%$."
   ]
  },
  {
   "cell_type": "markdown",
   "metadata": {},
   "source": [
    "### Compound return"
   ]
  },
  {
   "cell_type": "markdown",
   "metadata": {},
   "source": [
    "If we look at two time periods, the overall returns is not just the sum of the returns over the two periods. \n",
    "For example, consider the variation of price during two time periods:\n",
    "$$\n",
    "P_1 = P_0 + R_{0,1}P_0\n",
    "\\qquad\\text{and}\\qquad \n",
    "P_2 = P_1 + R_{1,2}P_1. \n",
    "$$\n",
    "Substitue $P_1$ into $P_2$:\n",
    "$$\n",
    "P_2 = P_0 + R_{0,1}P_0 + R_{1,2}( P_0 + R_{0,1}P_0 ) = P_0 + R_{0,1}P_0 + R_{1,2}P_0 + R_{1,2}R_{0,1}P_0.\n",
    "$$\n",
    "Hence, the **total return** over the period $(0,2)$ is given by:\n",
    "$$\n",
    "R_{0,2} = \\frac{P_2}{P_0} - 1 \n",
    "= 1 + R_{0,1}+R_{1,2}+R_{1,2}R_{0,1} - 1 \n",
    "= (1 + R_{0,1})(1 + R_{1,2}) - 1.\n",
    "$$\n",
    "That is, in general, given a time frame $(t, t+k)$, with $k>1$:\n",
    "$$\n",
    "R_{t,t+k} = (1+R_{t,t+1})(1+R_{t+1,t+2})\\cdots(1+R_{t+k-1,t+k}) - 1.\n",
    "$$"
   ]
  },
  {
   "cell_type": "markdown",
   "metadata": {},
   "source": [
    "### Compound return in case of equal returns"
   ]
  },
  {
   "cell_type": "markdown",
   "metadata": {},
   "source": [
    "If the returns are the same over all time periods, say $R$, for the entire given time frame $(t, t+k)$, with $k>1$, \n",
    "then the compound returns becomes simply\n",
    "$$\n",
    "R_{t,t+k} = (1+R)^{k} - 1.\n",
    "$$"
   ]
  },
  {
   "cell_type": "markdown",
   "metadata": {},
   "source": [
    "#### Examples"
   ]
  },
  {
   "cell_type": "markdown",
   "metadata": {},
   "source": [
    "**1)** Suppose we buy a stock that on the first day gains the $10\\%$ whereas on the second day looses the $3\\%$. \n",
    "**What is the total return at the end of the second day?**\n",
    "\n",
    "Using the formula for compound returns:\n",
    "$$\n",
    "R_{0,2} = (1 + R_{0,1})(1 + R_{1,2}) - 1 = (1 + 0.10)(1 - 0.03) - 1 = 0.066999 = 6.7\\%.\n",
    "$$\n",
    "\n",
    "As we can see, this is not simply $10\\%$ minus $3\\%$, i.e., $7\\%$, but it is something lower$\\dots$"
   ]
  },
  {
   "cell_type": "markdown",
   "metadata": {},
   "source": [
    "**2) What is the annualized return of a stock** which has a $1\\%$ return over a quarter, i.e., three months \n",
    "(that is, supposing that the stock return is $1\\%$ over all quarters)? \n",
    "\n",
    "As the returns over quarters are the same ($1\\%$), and in one year there are $4$ quarters, we use the simplified formula for \n",
    "compound returns:\n",
    "$$\n",
    "R_{0,12} = (1 + R_{0,3})^4 - 1 = (1 + 0.01)^4 - 1 = 0.040604 = 4.06\\%, \n",
    "$$\n",
    "where $R_{0,3}$ is the same as $R_{3,6}$, and so on."
   ]
  },
  {
   "cell_type": "markdown",
   "metadata": {},
   "source": [
    "### Return per month\n",
    "Suppose we have a series of **monthly returns**, i.e., each timeframe $t$ represents a month time period. \n",
    "In the example above, for the period $(0,2)$ we have two months, with prices $P_0$ (at the beginnnig of the first month), $P_1$ at the end of the first month, and $P_2$ at the end of the second month. \n",
    "\n",
    "The compound (total) return after two months is $R_{total} := R_{0,2} = (1+R_{0,1})(1+R_{1,2})-1$, where $R_{0,1}$ and $R_{1,2}$ are the returns of the first and the second month, respectively. \n",
    "\n",
    "What is the **return per month**, i.e., **the fixed return for each month that will give the same total return $R_{total}$?** \n",
    "That is, we are asking for the value $R_{pm}$ such that:\n",
    "$$\n",
    "R_{total} = (1 + R_{pm})^2 - 1,\n",
    "$$\n",
    "where we have used the simplified formula as $R_{pm}$ is going to be the same for the $2$ months considered. \n",
    "We get: \n",
    "$$\n",
    "R_{pm} = (1 + R_{total})^{1/2} - 1 = ((1+R_{0,1})(1+R_{1,2}))^{1/2} - 1.\n",
    "$$\n",
    "\n",
    "In general, in the equation above we **divide by the number of given months** ($2$ in this case). "
   ]
  },
  {
   "cell_type": "markdown",
   "metadata": {},
   "source": [
    "### Return per year (or annualized return)\n",
    "If we have monthly returns and a (fixed) *return per month*, we can *infer* what will be the **annualized return**, or **return per year**, i.e., the total (compound) return after $12$ months: \n",
    "$$\n",
    "R_{py} = (1 + R_{pm})^{12} - 1. \n",
    "$$\n",
    "\n",
    "If we don't compute the return per month beforehand, we can still obtain the return per year from our series of monthly returns, \n",
    "in particular, from the total compuond return. \n",
    "For example, is we use the formula for $R_{pm}$ that we have above, we obtain \n",
    "$$\n",
    "R_{py} \n",
    "= \\left(1 + \\underbrace{R_{pm}}\\right)^{12} - 1\n",
    "= \\left(1 + \\underbrace{(1+R_{total})^{1/2} - 1}\\right)^{12} - 1 = (1 + R_{total})^{12/2} - 1.\n",
    "$$\n",
    "\n",
    "In general, given a series of monthly returns, there holds\n",
    "$$\n",
    "R_{py} = (1 + R_{total})^{12/n} - 1,\n",
    "$$\n",
    "where $n$ is the number of available months under consideration and $R_{total}$ is the compound (total) return over all the available months we have. \n",
    "\n",
    "#### General formula\n",
    "\n",
    "The formula above works for any kind of available returns that we may have, e.g., daily, weekly, or monthly returns. \n",
    "The difference would be in the numerator of the power.\n",
    "\n",
    "For example, if we have a series of **daily returns**, then the annualized return is given by:\n",
    "$$\n",
    "R_{py} \n",
    "= \\left(1 + \\underbrace{R_{pd}}\\right)^{252} - 1\n",
    "= \\left(1 + \\underbrace{(1+R_{total})^{1/N_{\\text{rets}}} - 1}\\right)^{252} - 1 = (1 + R_{total})^{252/N_{\\text{rets}}} - 1,\n",
    "$$\n",
    "where again, $R_{total}$ is the compound (total) return of the series of (daily) returns that we have, \n",
    "$252$ is the approximate number of (**trading**) days in one year, and $N_{\\text{rets}}$ is the lenght of our series of returns. \n",
    "\n",
    "**In general**:\n",
    "$$\n",
    "R_{py} = (1 + R_{total})^{P_{y}/N_{\\text{rets}}} - 1,\n",
    "\\quad\\text{where}\\quad\n",
    "P_{y} =\n",
    "\\begin{cases}\n",
    "&252  & \\text{if we have daily returns},\\\\\n",
    "&52   & \\text{if we have weekly returns},\\\\\n",
    "&12  & \\text{if we have monthly returns.}\n",
    "\\end{cases}\n",
    "$$\n",
    "The variable $P_y$ is called **periods_per_year**.\n"
   ]
  },
  {
   "cell_type": "markdown",
   "metadata": {},
   "source": [
    "### Volatility (or risk)\n",
    "\n",
    "The **volatility** of an asset is simply the standard deviation of the returns of the asset:\n",
    "$$\n",
    "\\sigma := \\sqrt{  \\frac{1}{N-1} \\sum_{t} (R_t - \\mu)^2  },\n",
    "$$\n",
    "where $R_t$ is our series of returns at time $t$ and $\\mu$ is the sample mean of the returns, i.e., $\\mu := \\frac{1}{N}\\sum_{t}R_t$, \n",
    "with $N$ denoting the number of returns.\n",
    "\n",
    "### Adjusting the volatility\n",
    "\n",
    "Suppose that we have **monthly** returns and we compute the volatily of our asset, that is, we compute the **monthly volatility**. \n",
    "What if we want to know the **volatility over the year?** \n",
    "It is clear that we cannot compare the volatility obtained from data corresponding to different time scales. \n",
    "The way to proceed is the following:\n",
    "$$\n",
    "\\sigma_{ann} = \\sigma_{p} \\sqrt{p},\n",
    "$$\n",
    "where $\\sigma_{ann}$ is the **annualized volatility**, or volatility per year, whereas $p$ stands for the period considered \n",
    "and $\\sigma_p$ the corresponding computed volatility. \n",
    "\n",
    "For example:\n",
    "\n",
    "1) In case of **monthly** returns with volatility $\\sigma_m$, we compute the annualized volatility \n",
    "by doing $\\sigma_{ann}=\\sigma_m\\sqrt{12}$;\n",
    "\n",
    "2) In case of **weekly** returns with volatility $\\sigma_w$, we compute the annualized volatility \n",
    "by doing $\\sigma_{ann}=\\sigma_w\\sqrt{52}$;\n",
    "\n",
    "3) In case of **daily** returns with volatility $\\sigma_d$, we compute the annualized volatility \n",
    "by doing $\\sigma_{ann}=\\sigma_d\\sqrt{252}$."
   ]
  },
  {
   "cell_type": "markdown",
   "metadata": {},
   "source": [
    "### Example"
   ]
  },
  {
   "cell_type": "code",
   "execution_count": 6,
   "metadata": {},
   "outputs": [
    {
     "data": {
      "text/html": [
       "<div>\n",
       "<style scoped>\n",
       "    .dataframe tbody tr th:only-of-type {\n",
       "        vertical-align: middle;\n",
       "    }\n",
       "\n",
       "    .dataframe tbody tr th {\n",
       "        vertical-align: top;\n",
       "    }\n",
       "\n",
       "    .dataframe thead th {\n",
       "        text-align: right;\n",
       "    }\n",
       "</style>\n",
       "<table border=\"1\" class=\"dataframe\">\n",
       "  <thead>\n",
       "    <tr style=\"text-align: right;\">\n",
       "      <th></th>\n",
       "      <th>A</th>\n",
       "      <th>B</th>\n",
       "    </tr>\n",
       "  </thead>\n",
       "  <tbody>\n",
       "    <tr>\n",
       "      <th>0</th>\n",
       "      <td>9.709497</td>\n",
       "      <td>7.471746</td>\n",
       "    </tr>\n",
       "    <tr>\n",
       "      <th>1</th>\n",
       "      <td>10.112128</td>\n",
       "      <td>7.078454</td>\n",
       "    </tr>\n",
       "    <tr>\n",
       "      <th>2</th>\n",
       "      <td>11.250795</td>\n",
       "      <td>3.634503</td>\n",
       "    </tr>\n",
       "    <tr>\n",
       "      <th>3</th>\n",
       "      <td>8.639110</td>\n",
       "      <td>13.733915</td>\n",
       "    </tr>\n",
       "    <tr>\n",
       "      <th>4</th>\n",
       "      <td>10.099933</td>\n",
       "      <td>7.208269</td>\n",
       "    </tr>\n",
       "    <tr>\n",
       "      <th>5</th>\n",
       "      <td>9.952009</td>\n",
       "      <td>9.445992</td>\n",
       "    </tr>\n",
       "    <tr>\n",
       "      <th>6</th>\n",
       "      <td>9.643770</td>\n",
       "      <td>4.063317</td>\n",
       "    </tr>\n",
       "    <tr>\n",
       "      <th>7</th>\n",
       "      <td>8.911441</td>\n",
       "      <td>4.958870</td>\n",
       "    </tr>\n",
       "    <tr>\n",
       "      <th>8</th>\n",
       "      <td>9.648982</td>\n",
       "      <td>6.550691</td>\n",
       "    </tr>\n",
       "    <tr>\n",
       "      <th>9</th>\n",
       "      <td>12.588400</td>\n",
       "      <td>9.571787</td>\n",
       "    </tr>\n",
       "  </tbody>\n",
       "</table>\n",
       "</div>"
      ],
      "text/plain": [
       "           A          B\n",
       "0   9.709497   7.471746\n",
       "1  10.112128   7.078454\n",
       "2  11.250795   3.634503\n",
       "3   8.639110  13.733915\n",
       "4  10.099933   7.208269\n",
       "5   9.952009   9.445992\n",
       "6   9.643770   4.063317\n",
       "7   8.911441   4.958870\n",
       "8   9.648982   6.550691\n",
       "9  12.588400   9.571787"
      ]
     },
     "execution_count": 6,
     "metadata": {},
     "output_type": "execute_result"
    }
   ],
   "source": [
    "# Generate two stock prices from N(10,1) and N(10,5) normal distributions \n",
    "np.random.seed(51)\n",
    "stocks = pd.DataFrame( {\"A\" : np.random.normal(10,1,size=10), \"B\" : np.random.normal(10,5,size=10)} )\n",
    "stocks"
   ]
  },
  {
   "cell_type": "markdown",
   "metadata": {},
   "source": [
    "#### (new) DIfferent ways to calculate return"
   ]
  },
  {
   "cell_type": "code",
   "execution_count": 7,
   "metadata": {},
   "outputs": [
    {
     "data": {
      "text/html": [
       "<div>\n",
       "<style scoped>\n",
       "    .dataframe tbody tr th:only-of-type {\n",
       "        vertical-align: middle;\n",
       "    }\n",
       "\n",
       "    .dataframe tbody tr th {\n",
       "        vertical-align: top;\n",
       "    }\n",
       "\n",
       "    .dataframe thead th {\n",
       "        text-align: right;\n",
       "    }\n",
       "</style>\n",
       "<table border=\"1\" class=\"dataframe\">\n",
       "  <thead>\n",
       "    <tr style=\"text-align: right;\">\n",
       "      <th></th>\n",
       "      <th>A</th>\n",
       "      <th>B</th>\n",
       "    </tr>\n",
       "  </thead>\n",
       "  <tbody>\n",
       "    <tr>\n",
       "      <th>0</th>\n",
       "      <td>0.041468</td>\n",
       "      <td>-0.052637</td>\n",
       "    </tr>\n",
       "    <tr>\n",
       "      <th>1</th>\n",
       "      <td>0.112604</td>\n",
       "      <td>-0.486540</td>\n",
       "    </tr>\n",
       "    <tr>\n",
       "      <th>2</th>\n",
       "      <td>-0.232133</td>\n",
       "      <td>2.778760</td>\n",
       "    </tr>\n",
       "    <tr>\n",
       "      <th>3</th>\n",
       "      <td>0.169094</td>\n",
       "      <td>-0.475148</td>\n",
       "    </tr>\n",
       "    <tr>\n",
       "      <th>4</th>\n",
       "      <td>-0.014646</td>\n",
       "      <td>0.310438</td>\n",
       "    </tr>\n",
       "    <tr>\n",
       "      <th>5</th>\n",
       "      <td>-0.030972</td>\n",
       "      <td>-0.569837</td>\n",
       "    </tr>\n",
       "    <tr>\n",
       "      <th>6</th>\n",
       "      <td>-0.075938</td>\n",
       "      <td>0.220400</td>\n",
       "    </tr>\n",
       "    <tr>\n",
       "      <th>7</th>\n",
       "      <td>0.082763</td>\n",
       "      <td>0.321005</td>\n",
       "    </tr>\n",
       "    <tr>\n",
       "      <th>8</th>\n",
       "      <td>0.304635</td>\n",
       "      <td>0.461187</td>\n",
       "    </tr>\n",
       "  </tbody>\n",
       "</table>\n",
       "</div>"
      ],
      "text/plain": [
       "          A         B\n",
       "0  0.041468 -0.052637\n",
       "1  0.112604 -0.486540\n",
       "2 -0.232133  2.778760\n",
       "3  0.169094 -0.475148\n",
       "4 -0.014646  0.310438\n",
       "5 -0.030972 -0.569837\n",
       "6 -0.075938  0.220400\n",
       "7  0.082763  0.321005\n",
       "8  0.304635  0.461187"
      ]
     },
     "execution_count": 7,
     "metadata": {},
     "output_type": "execute_result"
    }
   ],
   "source": [
    "# 1\n",
    "stocks.iloc[1:].values/stocks.iloc[:-1]-1"
   ]
  },
  {
   "cell_type": "code",
   "execution_count": 8,
   "metadata": {},
   "outputs": [
    {
     "data": {
      "text/html": [
       "<div>\n",
       "<style scoped>\n",
       "    .dataframe tbody tr th:only-of-type {\n",
       "        vertical-align: middle;\n",
       "    }\n",
       "\n",
       "    .dataframe tbody tr th {\n",
       "        vertical-align: top;\n",
       "    }\n",
       "\n",
       "    .dataframe thead th {\n",
       "        text-align: right;\n",
       "    }\n",
       "</style>\n",
       "<table border=\"1\" class=\"dataframe\">\n",
       "  <thead>\n",
       "    <tr style=\"text-align: right;\">\n",
       "      <th></th>\n",
       "      <th>A</th>\n",
       "      <th>B</th>\n",
       "    </tr>\n",
       "  </thead>\n",
       "  <tbody>\n",
       "    <tr>\n",
       "      <th>0</th>\n",
       "      <td>NaN</td>\n",
       "      <td>NaN</td>\n",
       "    </tr>\n",
       "    <tr>\n",
       "      <th>1</th>\n",
       "      <td>0.041468</td>\n",
       "      <td>-0.052637</td>\n",
       "    </tr>\n",
       "    <tr>\n",
       "      <th>2</th>\n",
       "      <td>0.112604</td>\n",
       "      <td>-0.486540</td>\n",
       "    </tr>\n",
       "    <tr>\n",
       "      <th>3</th>\n",
       "      <td>-0.232133</td>\n",
       "      <td>2.778760</td>\n",
       "    </tr>\n",
       "    <tr>\n",
       "      <th>4</th>\n",
       "      <td>0.169094</td>\n",
       "      <td>-0.475148</td>\n",
       "    </tr>\n",
       "    <tr>\n",
       "      <th>5</th>\n",
       "      <td>-0.014646</td>\n",
       "      <td>0.310438</td>\n",
       "    </tr>\n",
       "    <tr>\n",
       "      <th>6</th>\n",
       "      <td>-0.030972</td>\n",
       "      <td>-0.569837</td>\n",
       "    </tr>\n",
       "    <tr>\n",
       "      <th>7</th>\n",
       "      <td>-0.075938</td>\n",
       "      <td>0.220400</td>\n",
       "    </tr>\n",
       "    <tr>\n",
       "      <th>8</th>\n",
       "      <td>0.082763</td>\n",
       "      <td>0.321005</td>\n",
       "    </tr>\n",
       "    <tr>\n",
       "      <th>9</th>\n",
       "      <td>0.304635</td>\n",
       "      <td>0.461187</td>\n",
       "    </tr>\n",
       "  </tbody>\n",
       "</table>\n",
       "</div>"
      ],
      "text/plain": [
       "          A         B\n",
       "0       NaN       NaN\n",
       "1  0.041468 -0.052637\n",
       "2  0.112604 -0.486540\n",
       "3 -0.232133  2.778760\n",
       "4  0.169094 -0.475148\n",
       "5 -0.014646  0.310438\n",
       "6 -0.030972 -0.569837\n",
       "7 -0.075938  0.220400\n",
       "8  0.082763  0.321005\n",
       "9  0.304635  0.461187"
      ]
     },
     "execution_count": 8,
     "metadata": {},
     "output_type": "execute_result"
    }
   ],
   "source": [
    "# 2\n",
    "stocks/stocks.shift(1) - 1"
   ]
  },
  {
   "cell_type": "code",
   "execution_count": 9,
   "metadata": {},
   "outputs": [
    {
     "data": {
      "text/html": [
       "<div>\n",
       "<style scoped>\n",
       "    .dataframe tbody tr th:only-of-type {\n",
       "        vertical-align: middle;\n",
       "    }\n",
       "\n",
       "    .dataframe tbody tr th {\n",
       "        vertical-align: top;\n",
       "    }\n",
       "\n",
       "    .dataframe thead th {\n",
       "        text-align: right;\n",
       "    }\n",
       "</style>\n",
       "<table border=\"1\" class=\"dataframe\">\n",
       "  <thead>\n",
       "    <tr style=\"text-align: right;\">\n",
       "      <th></th>\n",
       "      <th>A</th>\n",
       "      <th>B</th>\n",
       "    </tr>\n",
       "  </thead>\n",
       "  <tbody>\n",
       "    <tr>\n",
       "      <th>0</th>\n",
       "      <td>NaN</td>\n",
       "      <td>NaN</td>\n",
       "    </tr>\n",
       "    <tr>\n",
       "      <th>1</th>\n",
       "      <td>0.041468</td>\n",
       "      <td>-0.052637</td>\n",
       "    </tr>\n",
       "    <tr>\n",
       "      <th>2</th>\n",
       "      <td>0.112604</td>\n",
       "      <td>-0.486540</td>\n",
       "    </tr>\n",
       "    <tr>\n",
       "      <th>3</th>\n",
       "      <td>-0.232133</td>\n",
       "      <td>2.778760</td>\n",
       "    </tr>\n",
       "    <tr>\n",
       "      <th>4</th>\n",
       "      <td>0.169094</td>\n",
       "      <td>-0.475148</td>\n",
       "    </tr>\n",
       "    <tr>\n",
       "      <th>5</th>\n",
       "      <td>-0.014646</td>\n",
       "      <td>0.310438</td>\n",
       "    </tr>\n",
       "    <tr>\n",
       "      <th>6</th>\n",
       "      <td>-0.030972</td>\n",
       "      <td>-0.569837</td>\n",
       "    </tr>\n",
       "    <tr>\n",
       "      <th>7</th>\n",
       "      <td>-0.075938</td>\n",
       "      <td>0.220400</td>\n",
       "    </tr>\n",
       "    <tr>\n",
       "      <th>8</th>\n",
       "      <td>0.082763</td>\n",
       "      <td>0.321005</td>\n",
       "    </tr>\n",
       "    <tr>\n",
       "      <th>9</th>\n",
       "      <td>0.304635</td>\n",
       "      <td>0.461187</td>\n",
       "    </tr>\n",
       "  </tbody>\n",
       "</table>\n",
       "</div>"
      ],
      "text/plain": [
       "          A         B\n",
       "0       NaN       NaN\n",
       "1  0.041468 -0.052637\n",
       "2  0.112604 -0.486540\n",
       "3 -0.232133  2.778760\n",
       "4  0.169094 -0.475148\n",
       "5 -0.014646  0.310438\n",
       "6 -0.030972 -0.569837\n",
       "7 -0.075938  0.220400\n",
       "8  0.082763  0.321005\n",
       "9  0.304635  0.461187"
      ]
     },
     "execution_count": 9,
     "metadata": {},
     "output_type": "execute_result"
    }
   ],
   "source": [
    "# 3\n",
    "stocks.pct_change()"
   ]
  },
  {
   "cell_type": "code",
   "execution_count": 10,
   "metadata": {},
   "outputs": [
    {
     "data": {
      "text/html": [
       "<div>\n",
       "<style scoped>\n",
       "    .dataframe tbody tr th:only-of-type {\n",
       "        vertical-align: middle;\n",
       "    }\n",
       "\n",
       "    .dataframe tbody tr th {\n",
       "        vertical-align: top;\n",
       "    }\n",
       "\n",
       "    .dataframe thead th {\n",
       "        text-align: right;\n",
       "    }\n",
       "</style>\n",
       "<table border=\"1\" class=\"dataframe\">\n",
       "  <thead>\n",
       "    <tr style=\"text-align: right;\">\n",
       "      <th></th>\n",
       "      <th>A</th>\n",
       "      <th>B</th>\n",
       "      <th>returns A</th>\n",
       "      <th>returns B</th>\n",
       "    </tr>\n",
       "  </thead>\n",
       "  <tbody>\n",
       "    <tr>\n",
       "      <th>0</th>\n",
       "      <td>9.709497</td>\n",
       "      <td>7.471746</td>\n",
       "      <td>NaN</td>\n",
       "      <td>NaN</td>\n",
       "    </tr>\n",
       "    <tr>\n",
       "      <th>1</th>\n",
       "      <td>10.112128</td>\n",
       "      <td>7.078454</td>\n",
       "      <td>0.041468</td>\n",
       "      <td>-0.052637</td>\n",
       "    </tr>\n",
       "    <tr>\n",
       "      <th>2</th>\n",
       "      <td>11.250795</td>\n",
       "      <td>3.634503</td>\n",
       "      <td>0.112604</td>\n",
       "      <td>-0.486540</td>\n",
       "    </tr>\n",
       "    <tr>\n",
       "      <th>3</th>\n",
       "      <td>8.639110</td>\n",
       "      <td>13.733915</td>\n",
       "      <td>-0.232133</td>\n",
       "      <td>2.778760</td>\n",
       "    </tr>\n",
       "    <tr>\n",
       "      <th>4</th>\n",
       "      <td>10.099933</td>\n",
       "      <td>7.208269</td>\n",
       "      <td>0.169094</td>\n",
       "      <td>-0.475148</td>\n",
       "    </tr>\n",
       "    <tr>\n",
       "      <th>5</th>\n",
       "      <td>9.952009</td>\n",
       "      <td>9.445992</td>\n",
       "      <td>-0.014646</td>\n",
       "      <td>0.310438</td>\n",
       "    </tr>\n",
       "    <tr>\n",
       "      <th>6</th>\n",
       "      <td>9.643770</td>\n",
       "      <td>4.063317</td>\n",
       "      <td>-0.030972</td>\n",
       "      <td>-0.569837</td>\n",
       "    </tr>\n",
       "    <tr>\n",
       "      <th>7</th>\n",
       "      <td>8.911441</td>\n",
       "      <td>4.958870</td>\n",
       "      <td>-0.075938</td>\n",
       "      <td>0.220400</td>\n",
       "    </tr>\n",
       "    <tr>\n",
       "      <th>8</th>\n",
       "      <td>9.648982</td>\n",
       "      <td>6.550691</td>\n",
       "      <td>0.082763</td>\n",
       "      <td>0.321005</td>\n",
       "    </tr>\n",
       "    <tr>\n",
       "      <th>9</th>\n",
       "      <td>12.588400</td>\n",
       "      <td>9.571787</td>\n",
       "      <td>0.304635</td>\n",
       "      <td>0.461187</td>\n",
       "    </tr>\n",
       "  </tbody>\n",
       "</table>\n",
       "</div>"
      ],
      "text/plain": [
       "           A          B  returns A  returns B\n",
       "0   9.709497   7.471746        NaN        NaN\n",
       "1  10.112128   7.078454   0.041468  -0.052637\n",
       "2  11.250795   3.634503   0.112604  -0.486540\n",
       "3   8.639110  13.733915  -0.232133   2.778760\n",
       "4  10.099933   7.208269   0.169094  -0.475148\n",
       "5   9.952009   9.445992  -0.014646   0.310438\n",
       "6   9.643770   4.063317  -0.030972  -0.569837\n",
       "7   8.911441   4.958870  -0.075938   0.220400\n",
       "8   9.648982   6.550691   0.082763   0.321005\n",
       "9  12.588400   9.571787   0.304635   0.461187"
      ]
     },
     "execution_count": 10,
     "metadata": {},
     "output_type": "execute_result"
    }
   ],
   "source": [
    "# compute the returns using the shift method\n",
    "stocks[\"returns A\"] = stocks[\"A\"]/stocks[\"A\"].shift(1) - 1\n",
    "stocks[\"returns B\"] = stocks[\"B\"]/stocks[\"B\"].shift(1) - 1\n",
    "stocks"
   ]
  },
  {
   "cell_type": "code",
   "execution_count": 11,
   "metadata": {},
   "outputs": [
    {
     "data": {
      "image/png": "[encoded data removed]",
      "text/plain": [
       "<Figure size 1440x288 with 2 Axes>"
      ]
     },
     "metadata": {},
     "output_type": "display_data"
    }
   ],
   "source": [
    "f, ax = plt.subplots(1,2,figsize=(20,4))\n",
    "ax[0].plot( stocks[[\"A\",\"B\"]] )\n",
    "ax[0].set_title('Stock price')\n",
    "ax[0].set_xlabel(\"months\") \n",
    "ax[1].set_ylabel(\"price\") \n",
    "ax[0].legend([\"A\",\"B\"])\n",
    "ax[0].grid()\n",
    "(stocks[[\"returns A\",\"returns B\"]]*100).plot.bar(ax=ax[1]) \n",
    "ax[1].set_title('Stock returns')\n",
    "ax[1].set_xlabel(\"months\") \n",
    "ax[1].set_ylabel(\"return (%)\") \n",
    "ax[1].legend([\"A\",\"B\"])\n",
    "ax[1].grid()\n",
    "plt.show()"
   ]
  },
  {
   "cell_type": "code",
   "execution_count": 12,
   "metadata": {},
   "outputs": [
    {
     "name": "stdout",
     "output_type": "stream",
     "text": [
      "Total returns (%):\n"
     ]
    },
    {
     "data": {
      "text/plain": [
       "returns A    29.650384\n",
       "returns B    28.106429\n",
       "dtype: float64"
      ]
     },
     "execution_count": 12,
     "metadata": {},
     "output_type": "execute_result"
    }
   ],
   "source": [
    "# compute the total (compound) return over the entire time frame (using prod() method)\n",
    "total_ret = (1 + stocks[[\"returns A\",\"returns B\"]]).prod() - 1 \n",
    "print(\"Total returns (%):\")\n",
    "total_ret*100"
   ]
  },
  {
   "cell_type": "code",
   "execution_count": 13,
   "metadata": {},
   "outputs": [
    {
     "name": "stdout",
     "output_type": "stream",
     "text": [
      "Means:\n",
      "returns A    0.039653\n",
      "returns B    0.278625\n",
      "dtype: float64\n",
      "Volatility:\n",
      "returns A    0.153834\n",
      "returns B    1.016949\n",
      "dtype: float64\n"
     ]
    }
   ],
   "source": [
    "# compute the means and the volatility of the stock\n",
    "means      = stocks[[\"returns A\",\"returns B\"]].mean()\n",
    "volatility = stocks[[\"returns A\",\"returns B\"]].std()\n",
    "print(\"Means:\")\n",
    "print(means)\n",
    "print(\"Volatility:\")\n",
    "print(volatility)"
   ]
  },
  {
   "cell_type": "markdown",
   "metadata": {},
   "source": [
    "Note that the total returns of the two stock is about the same ($\\sim 29\\%$) although stock B is about seven times more volatile than stock A."
   ]
  },
  {
   "cell_type": "code",
   "execution_count": 14,
   "metadata": {},
   "outputs": [
    {
     "data": {
      "text/plain": [
       "returns A    0.532897\n",
       "returns B    3.522813\n",
       "dtype: float64"
      ]
     },
     "execution_count": 14,
     "metadata": {},
     "output_type": "execute_result"
    }
   ],
   "source": [
    "# annualizing the volatility\n",
    "ann_volatility = volatility * np.sqrt(12)\n",
    "ann_volatility"
   ]
  },
  {
   "cell_type": "markdown",
   "metadata": {},
   "source": [
    "### Return on risk "
   ]
  },
  {
   "cell_type": "markdown",
   "metadata": {},
   "source": [
    "This is a measure to obtain **how much reward (return) do we get from our the investment in some asset per unit of risk** (volatility). \n",
    "By definition, this is simply the ratio between the return and the volatility:\n",
    "$$\n",
    "\\text{ROR} := \\frac{\\text{RETURN}}{\\text{RISK}} = \\frac{R}{\\sigma}, \n",
    "$$\n",
    "where RETURN is the total (compound) return over the period under consideration. \n",
    "Let us compute the RORs for the two stocks in the example above."
   ]
  },
  {
   "cell_type": "code",
   "execution_count": 15,
   "metadata": {},
   "outputs": [
    {
     "name": "stdout",
     "output_type": "stream",
     "text": [
      "Return on risk:\n"
     ]
    },
    {
     "data": {
      "text/plain": [
       "returns A    1.927425\n",
       "returns B    0.276380\n",
       "dtype: float64"
      ]
     },
     "execution_count": 15,
     "metadata": {},
     "output_type": "execute_result"
    }
   ],
   "source": [
    "ROR = total_ret / volatility\n",
    "print(\"Return on risk:\")\n",
    "ROR"
   ]
  },
  {
   "cell_type": "markdown",
   "metadata": {},
   "source": [
    "Higher ROR for stock A just says that **we get a better return (per unit of risk) is we invest in this stock**, or, in other words, it is better to invest in it rather than invest in stock B nonetheless the total return from the two stock is about the same."
   ]
  },
  {
   "cell_type": "markdown",
   "metadata": {},
   "source": [
    "### Sharpe Ratio\n",
    "The **sharpe ratio** is obtained from an adjustment to the return on risk ratio. \n",
    "Basically, the adjustment is to subtract from the return somenthing called **risk free rate** which is the return from some asset considered risk-free, i.e., with a very small volatility (e.g., **US Treasury Bill**, 30 days or less). The **sharpe ratio** is defined as:\n",
    "$$\n",
    "\\lambda := \\frac{E_R}{\\sigma}\n",
    "\\quad\\text{where}\\quad\n",
    "E_R := R - R_F, \n",
    "$$\n",
    "where $E_R$ is called the **excess return** which is therefore nothing but that the return $R$ minus a **benchmark (risk-free) return**."
   ]
  },
  {
   "cell_type": "code",
   "execution_count": 16,
   "metadata": {},
   "outputs": [
    {
     "data": {
      "text/plain": [
       "returns A    1.73241\n",
       "returns B    0.24688\n",
       "dtype: float64"
      ]
     },
     "execution_count": 16,
     "metadata": {},
     "output_type": "execute_result"
    }
   ],
   "source": [
    "# Supposing that the risk free ratio is 3%, we would have:\n",
    "risk_free_rate = 0.03 \n",
    "excess_return  = total_ret - risk_free_rate\n",
    "sharpe_ratio   = excess_return / volatility\n",
    "sharpe_ratio"
   ]
  },
  {
   "cell_type": "markdown",
   "metadata": {},
   "source": [
    "In our example, the situation would not change that much."
   ]
  },
  {
   "cell_type": "markdown",
   "metadata": {},
   "source": [
    "## Dataset\n",
    "\n",
    "We now start using a dataset from the real world and using our modules for our notes and analysis. \n",
    "The module uses is the one loaded at the beginning of the notebook called **edhec_risk_kit**."
   ]
  },
  {
   "cell_type": "code",
   "execution_count": 17,
   "metadata": {},
   "outputs": [
    {
     "data": {
      "text/html": [
       "<div>\n",
       "<style scoped>\n",
       "    .dataframe tbody tr th:only-of-type {\n",
       "        vertical-align: middle;\n",
       "    }\n",
       "\n",
       "    .dataframe tbody tr th {\n",
       "        vertical-align: top;\n",
       "    }\n",
       "\n",
       "    .dataframe thead th {\n",
       "        text-align: right;\n",
       "    }\n",
       "</style>\n",
       "<table border=\"1\" class=\"dataframe\">\n",
       "  <thead>\n",
       "    <tr style=\"text-align: right;\">\n",
       "      <th></th>\n",
       "      <th>&lt;= 0</th>\n",
       "      <th>Lo 30</th>\n",
       "      <th>Med 40</th>\n",
       "      <th>Hi 30</th>\n",
       "      <th>Lo 20</th>\n",
       "      <th>Qnt 2</th>\n",
       "      <th>Qnt 3</th>\n",
       "      <th>Qnt 4</th>\n",
       "      <th>Hi 20</th>\n",
       "      <th>Lo 10</th>\n",
       "      <th>Dec 2</th>\n",
       "      <th>Dec 3</th>\n",
       "      <th>Dec 4</th>\n",
       "      <th>Dec 5</th>\n",
       "      <th>Dec 6</th>\n",
       "      <th>Dec 7</th>\n",
       "      <th>Dec 8</th>\n",
       "      <th>Dec 9</th>\n",
       "      <th>Hi 10</th>\n",
       "    </tr>\n",
       "  </thead>\n",
       "  <tbody>\n",
       "    <tr>\n",
       "      <th>192607</th>\n",
       "      <td>NaN</td>\n",
       "      <td>-0.43</td>\n",
       "      <td>1.52</td>\n",
       "      <td>2.68</td>\n",
       "      <td>-0.57</td>\n",
       "      <td>0.59</td>\n",
       "      <td>1.60</td>\n",
       "      <td>1.47</td>\n",
       "      <td>3.33</td>\n",
       "      <td>-1.45</td>\n",
       "      <td>0.29</td>\n",
       "      <td>-0.15</td>\n",
       "      <td>1.33</td>\n",
       "      <td>1.24</td>\n",
       "      <td>1.98</td>\n",
       "      <td>1.55</td>\n",
       "      <td>1.38</td>\n",
       "      <td>3.38</td>\n",
       "      <td>3.29</td>\n",
       "    </tr>\n",
       "    <tr>\n",
       "      <th>192608</th>\n",
       "      <td>NaN</td>\n",
       "      <td>3.90</td>\n",
       "      <td>3.04</td>\n",
       "      <td>2.09</td>\n",
       "      <td>3.84</td>\n",
       "      <td>3.59</td>\n",
       "      <td>3.71</td>\n",
       "      <td>1.61</td>\n",
       "      <td>2.33</td>\n",
       "      <td>5.12</td>\n",
       "      <td>2.59</td>\n",
       "      <td>4.03</td>\n",
       "      <td>3.15</td>\n",
       "      <td>2.72</td>\n",
       "      <td>4.72</td>\n",
       "      <td>1.60</td>\n",
       "      <td>1.63</td>\n",
       "      <td>0.98</td>\n",
       "      <td>3.70</td>\n",
       "    </tr>\n",
       "    <tr>\n",
       "      <th>192609</th>\n",
       "      <td>NaN</td>\n",
       "      <td>-1.08</td>\n",
       "      <td>-0.54</td>\n",
       "      <td>0.16</td>\n",
       "      <td>-0.48</td>\n",
       "      <td>-1.40</td>\n",
       "      <td>0.00</td>\n",
       "      <td>-0.50</td>\n",
       "      <td>-0.09</td>\n",
       "      <td>0.93</td>\n",
       "      <td>-1.87</td>\n",
       "      <td>-2.27</td>\n",
       "      <td>-0.53</td>\n",
       "      <td>0.07</td>\n",
       "      <td>-0.07</td>\n",
       "      <td>-1.64</td>\n",
       "      <td>0.64</td>\n",
       "      <td>-0.86</td>\n",
       "      <td>0.67</td>\n",
       "    </tr>\n",
       "    <tr>\n",
       "      <th>192610</th>\n",
       "      <td>NaN</td>\n",
       "      <td>-3.32</td>\n",
       "      <td>-3.52</td>\n",
       "      <td>-3.06</td>\n",
       "      <td>-3.29</td>\n",
       "      <td>-4.10</td>\n",
       "      <td>-2.89</td>\n",
       "      <td>-3.36</td>\n",
       "      <td>-2.95</td>\n",
       "      <td>-4.84</td>\n",
       "      <td>-1.77</td>\n",
       "      <td>-3.36</td>\n",
       "      <td>-4.83</td>\n",
       "      <td>-2.98</td>\n",
       "      <td>-2.80</td>\n",
       "      <td>-3.45</td>\n",
       "      <td>-3.27</td>\n",
       "      <td>-3.47</td>\n",
       "      <td>-2.43</td>\n",
       "    </tr>\n",
       "    <tr>\n",
       "      <th>192611</th>\n",
       "      <td>NaN</td>\n",
       "      <td>-0.46</td>\n",
       "      <td>3.82</td>\n",
       "      <td>3.09</td>\n",
       "      <td>-0.55</td>\n",
       "      <td>2.18</td>\n",
       "      <td>3.41</td>\n",
       "      <td>3.39</td>\n",
       "      <td>3.16</td>\n",
       "      <td>-0.78</td>\n",
       "      <td>-0.32</td>\n",
       "      <td>-0.29</td>\n",
       "      <td>4.65</td>\n",
       "      <td>3.24</td>\n",
       "      <td>3.57</td>\n",
       "      <td>3.82</td>\n",
       "      <td>2.95</td>\n",
       "      <td>3.61</td>\n",
       "      <td>2.70</td>\n",
       "    </tr>\n",
       "  </tbody>\n",
       "</table>\n",
       "</div>"
      ],
      "text/plain": [
       "        <= 0  Lo 30  Med 40  Hi 30  Lo 20  Qnt 2  Qnt 3  Qnt 4  Hi 20  Lo 10  \\\n",
       "192607   NaN  -0.43    1.52   2.68  -0.57   0.59   1.60   1.47   3.33  -1.45   \n",
       "192608   NaN   3.90    3.04   2.09   3.84   3.59   3.71   1.61   2.33   5.12   \n",
       "192609   NaN  -1.08   -0.54   0.16  -0.48  -1.40   0.00  -0.50  -0.09   0.93   \n",
       "192610   NaN  -3.32   -3.52  -3.06  -3.29  -4.10  -2.89  -3.36  -2.95  -4.84   \n",
       "192611   NaN  -0.46    3.82   3.09  -0.55   2.18   3.41   3.39   3.16  -0.78   \n",
       "\n",
       "        Dec 2  Dec 3  Dec 4  Dec 5  Dec 6  Dec 7  Dec 8  Dec 9  Hi 10  \n",
       "192607   0.29  -0.15   1.33   1.24   1.98   1.55   1.38   3.38   3.29  \n",
       "192608   2.59   4.03   3.15   2.72   4.72   1.60   1.63   0.98   3.70  \n",
       "192609  -1.87  -2.27  -0.53   0.07  -0.07  -1.64   0.64  -0.86   0.67  \n",
       "192610  -1.77  -3.36  -4.83  -2.98  -2.80  -3.45  -3.27  -3.47  -2.43  \n",
       "192611  -0.32  -0.29   4.65   3.24   3.57   3.82   2.95   3.61   2.70  "
      ]
     },
     "execution_count": 17,
     "metadata": {},
     "output_type": "execute_result"
    }
   ],
   "source": [
    "file_to_load = \"../data/Portfolios_Formed_on_ME_monthly_EW.csv\"\n",
    "df = pd.read_csv(file_to_load, index_col=0, parse_dates=True, na_values=-99.99)\n",
    "df.head()"
   ]
  },
  {
   "cell_type": "markdown",
   "metadata": {},
   "source": [
    "These are all kinds of returns for different portfolios of US stocks divided in capitalization (in quantiles). \n",
    "For example, **Lo 10** denotes the Small caps companies (bottom decile), i.e., the lowest $10\\%$ of US stocks, whereas **Hi 10** denotes the Large Caps (top decile), i.e., the top $10\\%$ of US stocks.\n",
    "\n",
    "Note that these are monthly data, i.e., monthly returns from 07/1926 up to 12/2018."
   ]
  },
  {
   "cell_type": "code",
   "execution_count": 18,
   "metadata": {},
   "outputs": [
    {
     "data": {
      "text/html": [
       "<div>\n",
       "<style scoped>\n",
       "    .dataframe tbody tr th:only-of-type {\n",
       "        vertical-align: middle;\n",
       "    }\n",
       "\n",
       "    .dataframe tbody tr th {\n",
       "        vertical-align: top;\n",
       "    }\n",
       "\n",
       "    .dataframe thead th {\n",
       "        text-align: right;\n",
       "    }\n",
       "</style>\n",
       "<table border=\"1\" class=\"dataframe\">\n",
       "  <thead>\n",
       "    <tr style=\"text-align: right;\">\n",
       "      <th></th>\n",
       "      <th>Lo 10</th>\n",
       "      <th>Hi 10</th>\n",
       "    </tr>\n",
       "  </thead>\n",
       "  <tbody>\n",
       "    <tr>\n",
       "      <th>192607</th>\n",
       "      <td>-0.0145</td>\n",
       "      <td>0.0329</td>\n",
       "    </tr>\n",
       "    <tr>\n",
       "      <th>192608</th>\n",
       "      <td>0.0512</td>\n",
       "      <td>0.0370</td>\n",
       "    </tr>\n",
       "    <tr>\n",
       "      <th>192609</th>\n",
       "      <td>0.0093</td>\n",
       "      <td>0.0067</td>\n",
       "    </tr>\n",
       "    <tr>\n",
       "      <th>192610</th>\n",
       "      <td>-0.0484</td>\n",
       "      <td>-0.0243</td>\n",
       "    </tr>\n",
       "    <tr>\n",
       "      <th>192611</th>\n",
       "      <td>-0.0078</td>\n",
       "      <td>0.0270</td>\n",
       "    </tr>\n",
       "  </tbody>\n",
       "</table>\n",
       "</div>"
      ],
      "text/plain": [
       "         Lo 10   Hi 10\n",
       "192607 -0.0145  0.0329\n",
       "192608  0.0512  0.0370\n",
       "192609  0.0093  0.0067\n",
       "192610 -0.0484 -0.0243\n",
       "192611 -0.0078  0.0270"
      ]
     },
     "execution_count": 18,
     "metadata": {},
     "output_type": "execute_result"
    }
   ],
   "source": [
    "# take Low 10 and High 10. Moreover, divede by 100, since they are returns\n",
    "dff = df[[\"Lo 10\", \"Hi 10\"]] / 100\n",
    "dff.head()"
   ]
  },
  {
   "cell_type": "code",
   "execution_count": 19,
   "metadata": {},
   "outputs": [
    {
     "data": {
      "image/png": "[encoded data removed]",
      "text/plain": [
       "<Figure size 720x288 with 1 Axes>"
      ]
     },
     "metadata": {},
     "output_type": "display_data"
    }
   ],
   "source": [
    "dff.plot(grid=True, figsize=(10,4))\n",
    "plt.show()"
   ]
  },
  {
   "cell_type": "code",
   "execution_count": 20,
   "metadata": {},
   "outputs": [
    {
     "data": {
      "text/plain": [
       "Lo 10    0.106288\n",
       "Hi 10    0.053900\n",
       "dtype: float64"
      ]
     },
     "execution_count": 20,
     "metadata": {},
     "output_type": "execute_result"
    }
   ],
   "source": [
    "# compute the volatility\n",
    "vol = dff.std()\n",
    "vol"
   ]
  },
  {
   "cell_type": "markdown",
   "metadata": {},
   "source": [
    "Note that this is the **monthly** volatility since we have monthly data. Compute the **annualized volatility**:"
   ]
  },
  {
   "cell_type": "code",
   "execution_count": 28,
   "metadata": {},
   "outputs": [
    {
     "data": {
      "text/plain": [
       "Lo 10    0.368193\n",
       "Hi 10    0.186716\n",
       "dtype: float64"
      ]
     },
     "execution_count": 28,
     "metadata": {},
     "output_type": "execute_result"
    }
   ],
   "source": [
    "annualized_vol = vol * np.sqrt(12)\n",
    "annualized_vol"
   ]
  },
  {
   "cell_type": "markdown",
   "metadata": {},
   "source": [
    "Now, we want to compute the **return per month**. We need the total numbers of months of the entire timeframe (from 1926 to 2018), which is simply the number of rows of the dataframe. Then we can use the formula for the return per month:"
   ]
  },
  {
   "cell_type": "code",
   "execution_count": 29,
   "metadata": {},
   "outputs": [
    {
     "data": {
      "text/plain": [
       "Lo 10    0.012986\n",
       "Hi 10    0.007423\n",
       "dtype: float64"
      ]
     },
     "execution_count": 29,
     "metadata": {},
     "output_type": "execute_result"
    }
   ],
   "source": [
    "nmonths = dff.shape[0]\n",
    "total_return = (1 + dff).prod() - 1\n",
    "return_per_month = (1 + total_return)**(1/nmonths) - 1\n",
    "return_per_month"
   ]
  },
  {
   "cell_type": "code",
   "execution_count": 30,
   "metadata": {},
   "outputs": [
    {
     "data": {
      "text/plain": [
       "Lo 10    0.167463\n",
       "Hi 10    0.092810\n",
       "dtype: float64"
      ]
     },
     "execution_count": 30,
     "metadata": {},
     "output_type": "execute_result"
    }
   ],
   "source": [
    "annulized_return = ((dff+1).prod())**(12/nmonths)-1\n",
    "annulized_return"
   ]
  },
  {
   "cell_type": "markdown",
   "metadata": {},
   "source": [
    "Now compute the **return per year** (**annualized return**) by using either the return per month or using the total return."
   ]
  },
  {
   "cell_type": "code",
   "execution_count": 31,
   "metadata": {},
   "outputs": [
    {
     "name": "stdout",
     "output_type": "stream",
     "text": [
      "Lo 10    0.167463\n",
      "Hi 10    0.092810\n",
      "dtype: float64\n"
     ]
    }
   ],
   "source": [
    "# return-per-year: using the formula with return per month and power 12\n",
    "annualized_return = (1 + return_per_month)**12 - 1\n",
    "print( annualized_return ) \n",
    "\n",
    "# which is the same as:\n",
    "# return-per-year: using the formula with total return and power 12/no. of months  \n",
    "#annualized_return = (1 + total_return) ** (12/nmonths) - 1\n",
    "#print( annualized_return ) "
   ]
  },
  {
   "cell_type": "markdown",
   "metadata": {},
   "source": [
    "Compute the **ROR and sharpe ratios**:"
   ]
  },
  {
   "cell_type": "code",
   "execution_count": 32,
   "metadata": {},
   "outputs": [
    {
     "data": {
      "text/plain": [
       "Lo 10    0.454825\n",
       "Hi 10    0.497063\n",
       "dtype: float64"
      ]
     },
     "execution_count": 32,
     "metadata": {},
     "output_type": "execute_result"
    }
   ],
   "source": [
    "ROR = annualized_return / annualized_vol\n",
    "ROR"
   ]
  },
  {
   "cell_type": "markdown",
   "metadata": {},
   "source": [
    "This would suggest to invest in Large caps (Hi 10) due to higher return per unit of risk. However:"
   ]
  },
  {
   "cell_type": "code",
   "execution_count": 33,
   "metadata": {},
   "outputs": [
    {
     "data": {
      "text/plain": [
       "Lo 10    0.373346\n",
       "Hi 10    0.336392\n",
       "dtype: float64"
      ]
     },
     "execution_count": 33,
     "metadata": {},
     "output_type": "execute_result"
    }
   ],
   "source": [
    "# define a risk free rate\n",
    "risk_free_rate = 0.03\n",
    "excess_return  = annualized_return - risk_free_rate\n",
    "sharpe_ratio   = excess_return / annualized_vol\n",
    "sharpe_ratio"
   ]
  },
  {
   "cell_type": "markdown",
   "metadata": {},
   "source": [
    "In in case of a hypothetical risk-free rate of $3\\%$, then we get higher sharpe ratio for Small Caps (Lo 10)$\\dots$"
   ]
  },
  {
   "cell_type": "markdown",
   "metadata": {},
   "source": [
    "#### Question:\n",
    "\n",
    "Suppose that asset A loses $1\\%$ a month for $12$ months and asset B gains $1\\%$ per month for $12$ months. \n",
    "**Which is the more volatile asset?** The answer is easy, none of them (**their volatility is zero**), \n",
    "since they do not actually oscillate, the first stock goes all the way down while the second stock goes all the way up. \n",
    "\n",
    "But let us see it with an example:"
   ]
  },
  {
   "cell_type": "code",
   "execution_count": 34,
   "metadata": {},
   "outputs": [
    {
     "data": {
      "text/html": [
       "<div>\n",
       "<style scoped>\n",
       "    .dataframe tbody tr th:only-of-type {\n",
       "        vertical-align: middle;\n",
       "    }\n",
       "\n",
       "    .dataframe tbody tr th {\n",
       "        vertical-align: top;\n",
       "    }\n",
       "\n",
       "    .dataframe thead th {\n",
       "        text-align: right;\n",
       "    }\n",
       "</style>\n",
       "<table border=\"1\" class=\"dataframe\">\n",
       "  <thead>\n",
       "    <tr style=\"text-align: right;\">\n",
       "      <th></th>\n",
       "      <th>A</th>\n",
       "      <th>B</th>\n",
       "      <th>returns A</th>\n",
       "      <th>returns B</th>\n",
       "    </tr>\n",
       "  </thead>\n",
       "  <tbody>\n",
       "    <tr>\n",
       "      <th>0</th>\n",
       "      <td>10.000000</td>\n",
       "      <td>10.000000</td>\n",
       "      <td>NaN</td>\n",
       "      <td>NaN</td>\n",
       "    </tr>\n",
       "    <tr>\n",
       "      <th>1</th>\n",
       "      <td>9.900000</td>\n",
       "      <td>10.100000</td>\n",
       "      <td>-0.01</td>\n",
       "      <td>0.01</td>\n",
       "    </tr>\n",
       "    <tr>\n",
       "      <th>2</th>\n",
       "      <td>9.801000</td>\n",
       "      <td>10.201000</td>\n",
       "      <td>-0.01</td>\n",
       "      <td>0.01</td>\n",
       "    </tr>\n",
       "    <tr>\n",
       "      <th>3</th>\n",
       "      <td>9.702990</td>\n",
       "      <td>10.303010</td>\n",
       "      <td>-0.01</td>\n",
       "      <td>0.01</td>\n",
       "    </tr>\n",
       "    <tr>\n",
       "      <th>4</th>\n",
       "      <td>9.605960</td>\n",
       "      <td>10.406040</td>\n",
       "      <td>-0.01</td>\n",
       "      <td>0.01</td>\n",
       "    </tr>\n",
       "    <tr>\n",
       "      <th>5</th>\n",
       "      <td>9.509900</td>\n",
       "      <td>10.510101</td>\n",
       "      <td>-0.01</td>\n",
       "      <td>0.01</td>\n",
       "    </tr>\n",
       "    <tr>\n",
       "      <th>6</th>\n",
       "      <td>9.414801</td>\n",
       "      <td>10.615202</td>\n",
       "      <td>-0.01</td>\n",
       "      <td>0.01</td>\n",
       "    </tr>\n",
       "    <tr>\n",
       "      <th>7</th>\n",
       "      <td>9.320653</td>\n",
       "      <td>10.721354</td>\n",
       "      <td>-0.01</td>\n",
       "      <td>0.01</td>\n",
       "    </tr>\n",
       "    <tr>\n",
       "      <th>8</th>\n",
       "      <td>9.227447</td>\n",
       "      <td>10.828567</td>\n",
       "      <td>-0.01</td>\n",
       "      <td>0.01</td>\n",
       "    </tr>\n",
       "    <tr>\n",
       "      <th>9</th>\n",
       "      <td>9.135172</td>\n",
       "      <td>10.936853</td>\n",
       "      <td>-0.01</td>\n",
       "      <td>0.01</td>\n",
       "    </tr>\n",
       "    <tr>\n",
       "      <th>10</th>\n",
       "      <td>9.043821</td>\n",
       "      <td>11.046221</td>\n",
       "      <td>-0.01</td>\n",
       "      <td>0.01</td>\n",
       "    </tr>\n",
       "    <tr>\n",
       "      <th>11</th>\n",
       "      <td>8.953383</td>\n",
       "      <td>11.156683</td>\n",
       "      <td>-0.01</td>\n",
       "      <td>0.01</td>\n",
       "    </tr>\n",
       "    <tr>\n",
       "      <th>12</th>\n",
       "      <td>8.863849</td>\n",
       "      <td>11.268250</td>\n",
       "      <td>-0.01</td>\n",
       "      <td>0.01</td>\n",
       "    </tr>\n",
       "  </tbody>\n",
       "</table>\n",
       "</div>"
      ],
      "text/plain": [
       "            A          B  returns A  returns B\n",
       "0   10.000000  10.000000        NaN        NaN\n",
       "1    9.900000  10.100000      -0.01       0.01\n",
       "2    9.801000  10.201000      -0.01       0.01\n",
       "3    9.702990  10.303010      -0.01       0.01\n",
       "4    9.605960  10.406040      -0.01       0.01\n",
       "5    9.509900  10.510101      -0.01       0.01\n",
       "6    9.414801  10.615202      -0.01       0.01\n",
       "7    9.320653  10.721354      -0.01       0.01\n",
       "8    9.227447  10.828567      -0.01       0.01\n",
       "9    9.135172  10.936853      -0.01       0.01\n",
       "10   9.043821  11.046221      -0.01       0.01\n",
       "11   8.953383  11.156683      -0.01       0.01\n",
       "12   8.863849  11.268250      -0.01       0.01"
      ]
     },
     "execution_count": 34,
     "metadata": {},
     "output_type": "execute_result"
    }
   ],
   "source": [
    "# Create the two artifical assets with this features \n",
    "a = [10]\n",
    "b = [10]\n",
    "for i in range(12):\n",
    "    a.append( a[i] + (-0.01)*a[i] ) # return A loses 1% every month\n",
    "    b.append( b[i] + (0.01)*b[i]  ) # return B gains 1% every month\n",
    "df = pd.DataFrame({\"A\":a, \"B\":b})\n",
    "\n",
    "# Adding returns: by construction they are equal to -0.01 and 0.01 for each month...\n",
    "df[\"returns A\"] = df[\"A\"] / df[\"A\"].shift(1) - 1\n",
    "df[\"returns B\"] = df[\"B\"] / df[\"B\"].shift(1) - 1\n",
    "df"
   ]
  },
  {
   "cell_type": "code",
   "execution_count": 35,
   "metadata": {},
   "outputs": [
    {
     "data": {
      "text/plain": [
       "returns A   -0.113615\n",
       "returns B    0.126825\n",
       "dtype: float64"
      ]
     },
     "execution_count": 35,
     "metadata": {},
     "output_type": "execute_result"
    }
   ],
   "source": [
    "# Note that asset B gains more than how much asset A looses (in absolute value)\n",
    "total_returns = (1 + df[[\"returns A\",\"returns B\"]]).prod() - 1 \n",
    "total_returns"
   ]
  },
  {
   "cell_type": "markdown",
   "metadata": {},
   "source": [
    "i.e., investing in asset A will incur in a lost of 11.36% whereas investing in asset B will incur in a gain of 12.68%."
   ]
  },
  {
   "cell_type": "code",
   "execution_count": 36,
   "metadata": {},
   "outputs": [
    {
     "data": {
      "text/plain": [
       "returns A    7.422730e-17\n",
       "returns B    0.000000e+00\n",
       "dtype: float64"
      ]
     },
     "execution_count": 36,
     "metadata": {},
     "output_type": "execute_result"
    }
   ],
   "source": [
    "# Finally, compute the volatility:\n",
    "volatility = df[[\"returns A\",\"returns B\"]].std()\n",
    "volatility"
   ]
  },
  {
   "cell_type": "markdown",
   "metadata": {},
   "source": [
    "**The volatily is zero in both cases** as we expected."
   ]
  },
  {
   "cell_type": "markdown",
   "metadata": {},
   "source": [
    "### Drawdown\n",
    "\n",
    "The Drawdown is defined as the **worst return** we would experience if we buy at very highest peak and sell at very lowest point. \n",
    "It measures **potential losses**, and therefore it is a **downside risk measure**."
   ]
  },
  {
   "cell_type": "code",
   "execution_count": 37,
   "metadata": {},
   "outputs": [
    {
     "data": {
      "text/html": [
       "<div>\n",
       "<style scoped>\n",
       "    .dataframe tbody tr th:only-of-type {\n",
       "        vertical-align: middle;\n",
       "    }\n",
       "\n",
       "    .dataframe tbody tr th {\n",
       "        vertical-align: top;\n",
       "    }\n",
       "\n",
       "    .dataframe thead th {\n",
       "        text-align: right;\n",
       "    }\n",
       "</style>\n",
       "<table border=\"1\" class=\"dataframe\">\n",
       "  <thead>\n",
       "    <tr style=\"text-align: right;\">\n",
       "      <th></th>\n",
       "      <th>Small Caps</th>\n",
       "      <th>Large Caps</th>\n",
       "    </tr>\n",
       "  </thead>\n",
       "  <tbody>\n",
       "    <tr>\n",
       "      <th>1926-07</th>\n",
       "      <td>-0.0145</td>\n",
       "      <td>0.0329</td>\n",
       "    </tr>\n",
       "    <tr>\n",
       "      <th>1926-08</th>\n",
       "      <td>0.0512</td>\n",
       "      <td>0.0370</td>\n",
       "    </tr>\n",
       "    <tr>\n",
       "      <th>1926-09</th>\n",
       "      <td>0.0093</td>\n",
       "      <td>0.0067</td>\n",
       "    </tr>\n",
       "    <tr>\n",
       "      <th>1926-10</th>\n",
       "      <td>-0.0484</td>\n",
       "      <td>-0.0243</td>\n",
       "    </tr>\n",
       "    <tr>\n",
       "      <th>1926-11</th>\n",
       "      <td>-0.0078</td>\n",
       "      <td>0.0270</td>\n",
       "    </tr>\n",
       "  </tbody>\n",
       "</table>\n",
       "</div>"
      ],
      "text/plain": [
       "         Small Caps  Large Caps\n",
       "1926-07     -0.0145      0.0329\n",
       "1926-08      0.0512      0.0370\n",
       "1926-09      0.0093      0.0067\n",
       "1926-10     -0.0484     -0.0243\n",
       "1926-11     -0.0078      0.0270"
      ]
     },
     "execution_count": 37,
     "metadata": {},
     "output_type": "execute_result"
    }
   ],
   "source": [
    "# Load the data set \n",
    "file_to_load = relative_path + \"Portfolios_Formed_on_ME_monthly_EW.csv\"\n",
    "rets = pd.read_csv(file_to_load, index_col=0, parse_dates=True, na_values=-99.99)\n",
    "\n",
    "# Consider only Low 10 and High 10, i.e., Small Caps and Large Caps\n",
    "# Moreover, divide by 100, since they are returns, and change the index to datatime\n",
    "rets = rets[[\"Lo 10\", \"Hi 10\"]] / 100\n",
    "rets.columns = [\"Small Caps\", \"Large Caps\"]\n",
    "rets.index = pd.to_datetime(rets.index, format=\"%Y%m\")   #.to_period(\"M\") forces the index to be monthly period...\n",
    "rets.index = rets.index.to_period('M')\n",
    "rets.head()"
   ]
  },
  {
   "cell_type": "markdown",
   "metadata": {},
   "source": [
    "In order to compute the drawdon of the two indices we do the following steps\n",
    "1. Compute the so-called **wealth index**, i.e., the value of the portfolio as it compounds over times. That is, given the series of returns, it is the series of compound returns at each time frame (using *cumprod()* method) \n",
    "2. Compute previous peaks\n",
    "3. Compute the **drawdown**, i.e., the wealth values as a percentage of previous peaks"
   ]
  },
  {
   "cell_type": "code",
   "execution_count": 38,
   "metadata": {
    "scrolled": true
   },
   "outputs": [
    {
     "data": {
      "text/html": [
       "<div>\n",
       "<style scoped>\n",
       "    .dataframe tbody tr th:only-of-type {\n",
       "        vertical-align: middle;\n",
       "    }\n",
       "\n",
       "    .dataframe tbody tr th {\n",
       "        vertical-align: top;\n",
       "    }\n",
       "\n",
       "    .dataframe thead th {\n",
       "        text-align: right;\n",
       "    }\n",
       "</style>\n",
       "<table border=\"1\" class=\"dataframe\">\n",
       "  <thead>\n",
       "    <tr style=\"text-align: right;\">\n",
       "      <th></th>\n",
       "      <th>Small Caps</th>\n",
       "      <th>Large Caps</th>\n",
       "    </tr>\n",
       "  </thead>\n",
       "  <tbody>\n",
       "    <tr>\n",
       "      <th>1926-07</th>\n",
       "      <td>98.550000</td>\n",
       "      <td>103.290000</td>\n",
       "    </tr>\n",
       "    <tr>\n",
       "      <th>1926-08</th>\n",
       "      <td>103.595760</td>\n",
       "      <td>107.111730</td>\n",
       "    </tr>\n",
       "    <tr>\n",
       "      <th>1926-09</th>\n",
       "      <td>104.559201</td>\n",
       "      <td>107.829379</td>\n",
       "    </tr>\n",
       "    <tr>\n",
       "      <th>1926-10</th>\n",
       "      <td>99.498535</td>\n",
       "      <td>105.209125</td>\n",
       "    </tr>\n",
       "    <tr>\n",
       "      <th>1926-11</th>\n",
       "      <td>98.722447</td>\n",
       "      <td>108.049771</td>\n",
       "    </tr>\n",
       "  </tbody>\n",
       "</table>\n",
       "</div>"
      ],
      "text/plain": [
       "         Small Caps  Large Caps\n",
       "1926-07   98.550000  103.290000\n",
       "1926-08  103.595760  107.111730\n",
       "1926-09  104.559201  107.829379\n",
       "1926-10   99.498535  105.209125\n",
       "1926-11   98.722447  108.049771"
      ]
     },
     "execution_count": 38,
     "metadata": {},
     "output_type": "execute_result"
    }
   ],
   "source": [
    "# we start from $100 and see how they evolve according to the returns\n",
    "wealth_index = 100 * (1 + rets).cumprod()\n",
    "wealth_index.head()"
   ]
  },
  {
   "cell_type": "code",
   "execution_count": 39,
   "metadata": {},
   "outputs": [
    {
     "data": {
      "image/png": "[encoded data removed]",
      "text/plain": [
       "<Figure size 1440x360 with 2 Axes>"
      ]
     },
     "metadata": {},
     "output_type": "display_data"
    }
   ],
   "source": [
    "f, ax = plt.subplots(figsize=(20,5), nrows=1, ncols=2)\n",
    "# Plot of the wealth indices\n",
    "wealth_index[\"Small Caps\"].plot(grid=True, ax=ax[0], label=\"small caps\", legend=True)\n",
    "wealth_index[\"Large Caps\"].plot(grid=True, ax=ax[1], label=\"large caps\", legend=True )\n",
    "# Using the cummax() method we can compute the cumulative max (peaks) throughout the series\n",
    "previous_peaks = wealth_index.cummax()\n",
    "previous_peaks[\"Small Caps\"].plot(title=\"Small Caps with max peaks\", grid=True, ax=ax[0], label=\"max peaks\", legend=True)\n",
    "previous_peaks[\"Large Caps\"].plot(title=\"Large Caps with max peaks\", grid=True, ax=ax[1], label=\"max peaks\", legend=True)\n",
    "plt.legend()\n",
    "plt.show()"
   ]
  },
  {
   "cell_type": "markdown",
   "metadata": {},
   "source": [
    "The **drawdown** is simply the difference of the wealth index from the (last) max peak, that is:\n",
    "1. wealth_index - previous_peaks                    (*in absolute values*)\n",
    "2. (wealth_index - previous_peaks) / previous_peaks (*in percentage*)"
   ]
  },
  {
   "cell_type": "code",
   "execution_count": 43,
   "metadata": {},
   "outputs": [
    {
     "data": {
      "image/png": "[encoded data removed]",
      "text/plain": [
       "<Figure size 1440x864 with 6 Axes>"
      ]
     },
     "metadata": {},
     "output_type": "display_data"
    }
   ],
   "source": [
    "f, ax = plt.subplots(3,2,figsize=(20,12))\n",
    "# Plot of the wealth indices\n",
    "wealth_index[\"Small Caps\"].plot(grid=True, title=\"Small Caps\", ax=ax[0,0]) \n",
    "wealth_index[\"Large Caps\"].plot(grid=True, title=\"Large Caps\", ax=ax[0,1]) \n",
    "\n",
    "(wealth_index - previous_peaks)[\"Small Caps\"].plot(grid=True, title=\"Small Caps - Max Peaks\", ax=ax[1,0], color='r')\n",
    "(wealth_index - previous_peaks)[\"Large Caps\"].plot(grid=True, title=\"Large Caps - Max Peaks\", ax=ax[1,1], color='r')\n",
    "\n",
    "drawdown = (wealth_index - previous_peaks) / previous_peaks\n",
    "(drawdown[\"Small Caps\"]*100).plot(grid=True, title=\"Drawdown Small Caps\", ax=ax[2,0], color='r')\n",
    "(drawdown[\"Large Caps\"]*100).plot(grid=True, title=\"Drawdown Large Caps\", ax=ax[2,1], color='r')\n",
    "ax[2,0].set_ylabel(\"%\")\n",
    "ax[2,1].set_ylabel(\"%\")\n",
    "plt.show()"
   ]
  },
  {
   "cell_type": "markdown",
   "metadata": {},
   "source": [
    "For example, we see that after the '29 crisis there has been a loss of over $80\\%$ of wealth for those people investing in Large Caps:"
   ]
  },
  {
   "cell_type": "code",
   "execution_count": 44,
   "metadata": {},
   "outputs": [
    {
     "name": "stdout",
     "output_type": "stream",
     "text": [
      "'29 crisis: \n",
      "Small Caps   -83.0\n",
      "Large Caps   -84.0\n",
      "dtype: float64%\n",
      "Date max drawdown:\n",
      "Small Caps    1932-05\n",
      "Large Caps    1932-05\n",
      "dtype: period[M]\n"
     ]
    }
   ],
   "source": [
    "print(\"'29 crisis: \")\n",
    "print( \"{}%\" .format( drawdown.min().round(2)*100) )\n",
    "print(\"Date max drawdown:\")\n",
    "print( drawdown.idxmin() )"
   ]
  },
  {
   "cell_type": "markdown",
   "metadata": {},
   "source": [
    "#### Make drawdown into a function"
   ]
  },
  {
   "cell_type": "code",
   "execution_count": 46,
   "metadata": {},
   "outputs": [],
   "source": [
    "def cal_drawdown(return_series: pd.Series):\n",
    "    \"\"\"\n",
    "    Takes a time series of asset returns\n",
    "    Computer and returns a DataFrame thhat contains:\n",
    "    the wealth index\n",
    "    the previous index\n",
    "    percent drawdowns\n",
    "    \"\"\"\n",
    "    wealth_index = 1000*(1+return_series).cumprod()\n",
    "    previous_peaks = wealth_index.cummax()\n",
    "    drawdowns = (wealth_index-previous_peaks)/previous_peaks\n",
    "    return pd.DataFrame({\n",
    "        \"Wealth\": wealth_index,\n",
    "        \"Peaks\": previous_peaks,\n",
    "        \"Drawdown\": drawdowns\n",
    "    })"
   ]
  },
  {
   "cell_type": "code",
   "execution_count": 57,
   "metadata": {},
   "outputs": [
    {
     "data": {
      "text/html": [
       "<div>\n",
       "<style scoped>\n",
       "    .dataframe tbody tr th:only-of-type {\n",
       "        vertical-align: middle;\n",
       "    }\n",
       "\n",
       "    .dataframe tbody tr th {\n",
       "        vertical-align: top;\n",
       "    }\n",
       "\n",
       "    .dataframe thead th {\n",
       "        text-align: right;\n",
       "    }\n",
       "</style>\n",
       "<table border=\"1\" class=\"dataframe\">\n",
       "  <thead>\n",
       "    <tr style=\"text-align: right;\">\n",
       "      <th></th>\n",
       "      <th>Wealth</th>\n",
       "      <th>Peaks</th>\n",
       "    </tr>\n",
       "  </thead>\n",
       "  <tbody>\n",
       "    <tr>\n",
       "      <th>1926-07</th>\n",
       "      <td>1032.900000</td>\n",
       "      <td>1032.900000</td>\n",
       "    </tr>\n",
       "    <tr>\n",
       "      <th>1926-08</th>\n",
       "      <td>1071.117300</td>\n",
       "      <td>1071.117300</td>\n",
       "    </tr>\n",
       "    <tr>\n",
       "      <th>1926-09</th>\n",
       "      <td>1078.293786</td>\n",
       "      <td>1078.293786</td>\n",
       "    </tr>\n",
       "    <tr>\n",
       "      <th>1926-10</th>\n",
       "      <td>1052.091247</td>\n",
       "      <td>1078.293786</td>\n",
       "    </tr>\n",
       "    <tr>\n",
       "      <th>1926-11</th>\n",
       "      <td>1080.497711</td>\n",
       "      <td>1080.497711</td>\n",
       "    </tr>\n",
       "  </tbody>\n",
       "</table>\n",
       "</div>"
      ],
      "text/plain": [
       "              Wealth        Peaks\n",
       "1926-07  1032.900000  1032.900000\n",
       "1926-08  1071.117300  1071.117300\n",
       "1926-09  1078.293786  1078.293786\n",
       "1926-10  1052.091247  1078.293786\n",
       "1926-11  1080.497711  1080.497711"
      ]
     },
     "metadata": {},
     "output_type": "display_data"
    },
    {
     "data": {
      "text/plain": [
       "<matplotlib.axes._subplots.AxesSubplot at 0x7f50f88000f0>"
      ]
     },
     "execution_count": 57,
     "metadata": {},
     "output_type": "execute_result"
    },
    {
     "data": {
      "image/png": "[encoded data removed]",
      "text/plain": [
       "<Figure size 432x288 with 1 Axes>"
      ]
     },
     "metadata": {},
     "output_type": "display_data"
    }
   ],
   "source": [
    "dd = cal_drawdown(rets['Large Caps'])\n",
    "display(dd[[\"Wealth\", \"Peaks\"]].head())\n",
    "dd[[\"Wealth\", \"Peaks\"]].plot()"
   ]
  },
  {
   "cell_type": "code",
   "execution_count": 60,
   "metadata": {},
   "outputs": [
    {
     "name": "stdout",
     "output_type": "stream",
     "text": [
      "Drawdown   -0.840038\n",
      "dtype: float64\n",
      "Drawdown    1932-05\n",
      "dtype: period[M]\n"
     ]
    }
   ],
   "source": [
    "print(cal_drawdown(rets['Large Caps'])[[\"Drawdown\"]].min())\n",
    "print(cal_drawdown(rets['Large Caps'])[[\"Drawdown\"]].idxmin())"
   ]
  },
  {
   "cell_type": "code",
   "execution_count": 61,
   "metadata": {},
   "outputs": [
    {
     "name": "stdout",
     "output_type": "stream",
     "text": [
      "Drawdown   -0.833001\n",
      "dtype: float64\n",
      "Drawdown    1932-05\n",
      "dtype: period[M]\n"
     ]
    }
   ],
   "source": [
    "print(cal_drawdown(rets['Small Caps'])[[\"Drawdown\"]].min())\n",
    "print(cal_drawdown(rets['Small Caps'])[[\"Drawdown\"]].idxmin())"
   ]
  },
  {
   "cell_type": "markdown",
   "metadata": {},
   "source": [
    "#### Select Period"
   ]
  },
  {
   "cell_type": "code",
   "execution_count": 64,
   "metadata": {},
   "outputs": [
    {
     "name": "stdout",
     "output_type": "stream",
     "text": [
      "Large Caps:\n",
      "Drawdown   -0.528095\n",
      "dtype: float64\n",
      "Drawdown    2009-02\n",
      "dtype: period[M]\n",
      "Small Caps:\n",
      "Drawdown   -0.631207\n",
      "dtype: float64\n",
      "Drawdown    2009-02\n",
      "dtype: period[M]\n"
     ]
    }
   ],
   "source": [
    "print(\"Large Caps:\")\n",
    "print(cal_drawdown(rets[\"1975\":]['Large Caps'])[[\"Drawdown\"]].min())\n",
    "print(cal_drawdown(rets[\"1975\":]['Large Caps'])[[\"Drawdown\"]].idxmin())\n",
    "print(\"Small Caps:\")\n",
    "print(cal_drawdown(rets[\"1975\":]['Small Caps'])[[\"Drawdown\"]].min())\n",
    "print(cal_drawdown(rets[\"1975\":]['Small Caps'])[[\"Drawdown\"]].idxmin())"
   ]
  },
  {
   "cell_type": "markdown",
   "metadata": {},
   "source": [
    " "
   ]
  },
  {
   "cell_type": "markdown",
   "metadata": {},
   "source": [
    "The other two large drawdowns occured during the **dot com** crisis a the beginning of the new century and due to the **Lehman Brothers** crisis:"
   ]
  },
  {
   "cell_type": "code",
   "execution_count": 66,
   "metadata": {},
   "outputs": [
    {
     "name": "stdout",
     "output_type": "stream",
     "text": [
      "Dot Com crisis: \n",
      "Small Caps   -38.0\n",
      "Large Caps   -50.0\n",
      "dtype: float64%\n",
      "Date max drawdown:\n",
      "Small Caps    1990-12\n",
      "Large Caps    2002-09\n",
      "dtype: period[M]\n"
     ]
    }
   ],
   "source": [
    "print(\"Dot Com crisis: \")\n",
    "print( \"{}%\" .format( drawdown[\"1990\":\"2005\"].min().round(2)*100) )\n",
    "print(\"Date max drawdown:\")\n",
    "print( drawdown[\"1990\":\"2005\"].idxmin() )"
   ]
  },
  {
   "cell_type": "code",
   "execution_count": 68,
   "metadata": {},
   "outputs": [
    {
     "name": "stdout",
     "output_type": "stream",
     "text": [
      "Lehman Brothers crisis: \n",
      "Small Caps   -63.0\n",
      "Large Caps   -53.0\n",
      "dtype: float64%\n",
      "Date max drawdown:\n",
      "Small Caps    2009-02\n",
      "Large Caps    2009-02\n",
      "dtype: period[M]\n"
     ]
    }
   ],
   "source": [
    "print(\"Lehman Brothers crisis: \")\n",
    "print( \"{}%\" .format( drawdown[\"2005\":].min().round(2)*100) )\n",
    "print(\"Date max drawdown:\")\n",
    "print( drawdown[\"2005\":].idxmin() )"
   ]
  },
  {
   "cell_type": "markdown",
   "metadata": {},
   "source": [
    "In our toolkit **erk** there is a function computing the **drawdown**."
   ]
  },
  {
   "cell_type": "markdown",
   "metadata": {},
   "source": [
    "## Deviation from Normality"
   ]
  },
  {
   "cell_type": "markdown",
   "metadata": {},
   "source": [
    "### Gaussian density and distribution \n",
    "Let $X$ be a **Gaussian random variable** with mean $\\mu$ and variance $\\sigma^2$ (i.e., $X\\sim N(\\mu,\\sigma^2$)). \n",
    "His **density function** is\n",
    "$$\n",
    "f(x) := \\frac{1}{\\sqrt{2\\pi\\sigma^2}}\\exp\\left(\\frac{-(x-\\mu)^2}{2\\sigma^2}\\right),\n",
    "$$\n",
    "whereas his **cumulative distribution function** is given by\n",
    "$$\n",
    "F_X(x) := \\mathbb{P}(X\\leq x) = \\int_{-\\infty}^x f(t)dt = \\Phi(x).\n",
    "$$\n",
    "If $\\mu=0$, and $\\sigma^2=1$, we say $X$ is **standard**. \n",
    "\n",
    "There holds the following property:\n",
    "$$\n",
    "\\Phi(x) = 1-\\Phi(-x).\n",
    "$$\n",
    "Also, since $\\exp(-t^2/2)$ is symmetric (i.e., an even function), we have that if $X\\sim N(0,1)$, then \n",
    "the distribution of the random variable $-X$ is also $N(0,1)$, i.e. \n",
    "$$\n",
    "\\mathbb{P}(-X\\leq x) \n",
    "= \\mathbb{P}(X\\geq -x)\n",
    "= 1-\\mathbb{P}(X\\leq -x)\n",
    "= 1-\\Phi(-x)\n",
    "= \\Phi(x)\n",
    "= \\mathbb{P}(X\\leq x),\n",
    "$$\n",
    "that is, $F_{-X}(x) = F_X(x)$."
   ]
  },
  {
   "cell_type": "markdown",
   "metadata": {},
   "source": [
    "### Quantiles\n",
    "\n",
    "Let $X$ be a random variable and let $\\alpha\\in(0,1)$. \n",
    "The **quantile of order $\\alpha$** of the distribution of $X$ is that number $\\phi_\\alpha\\in\\mathbb{R}$ \n",
    "such that $\\mathbb{P}(X\\leq \\phi_\\alpha) = \\alpha$.\n",
    "\n",
    "Now, let $X\\sim N(0,1)$ be a standard normal random variable and let $\\phi_\\alpha$ be the $\\alpha$-quantile. \n",
    "There holds:\n",
    "$$\n",
    "\\Phi(-\\phi_\\alpha) \n",
    "= \\mathbb{P}(X\\leq - \\phi_\\alpha) \n",
    "= \\mathbb{P}(-X\\leq - \\phi_\\alpha) \n",
    "= \\mathbb{P}(X\\geq \\phi_\\alpha) \n",
    "= 1 - \\mathbb{P}(X\\leq \\phi_\\alpha) \n",
    "= 1 - \\Phi(\\phi_\\alpha) \n",
    "= 1 - \\alpha\n",
    "= \\mathbb{P}(X\\leq \\phi_{1-\\alpha})\n",
    "= \\Phi(\\phi_{1-\\alpha}), \n",
    "$$\n",
    "from which we get:\n",
    "$$\n",
    "-\\phi_\\alpha = \\phi_{1-\\alpha}.\n",
    "$$\n",
    "This is an important identity of quantiles of normal standard distribution. \n",
    "\n",
    "Morevoer:\n",
    "$$\n",
    "\\mathbb{P}(|X|\\leq \\phi_{1-\\alpha/2})\n",
    "= \\mathbb{P}(-\\phi_{1-\\alpha/2} \\leq X \\leq \\phi_{1-\\alpha/2})\n",
    "= \\Phi(\\phi_{1-\\alpha/2}) - \\Phi(\\underbrace{ -\\phi_{1-\\alpha/2} }_{= \\phi_{\\alpha/2}})\n",
    "= (1-\\alpha/2) - (\\alpha/2)\n",
    "= 1-\\alpha.\n",
    "$$\n",
    "\n",
    "Example: **what is the 0.9-quantile**, i.e., the quantile of order 0.9, of the normal distribution?\n",
    "That is, what is the number $\\phi_{0.9}$ such that $\\Phi(\\phi_{0.9}) = \\mathbb{P}(X \\leq \\phi_{0.9}) = 0.9$?\n",
    "We are basically looking at \n",
    "$$\n",
    "\\phi_{0.9} = \\Phi^{-1}(0.9).\n",
    "$$\n",
    "We can use the *norm.ppf()* from **scipy.stats** function which returns the quantiles of the Gaussian distribution. "
   ]
  },
  {
   "cell_type": "code",
   "execution_count": 164,
   "metadata": {},
   "outputs": [
    {
     "name": "stdout",
     "output_type": "stream",
     "text": [
      "phi_0.9 = Phi^(-1)(0.9) = 1.282\n",
      "Double check: Phi(1.282)=0.9\n"
     ]
    }
   ],
   "source": [
    "z = scipy.stats.norm.ppf(0.9, 0,1)\n",
    "print('phi_0.9 = Phi^(-1)(0.9) = {:.4}' .format(z) )\n",
    "#\n",
    "# double check: compute Phi(0.9)\n",
    "print('Double check: Phi({:.4})={:.4}' .format(z,scipy.stats.norm.cdf(z,0,1)) ) "
   ]
  },
  {
   "cell_type": "markdown",
   "metadata": {},
   "source": [
    "### Skewness and Kurtosis \n",
    "\n",
    "The **skewness** is a measure of the asymmetry of the probability distribution of a real-valued random variable \n",
    "about its mean. It **can be positive or negative, or undefined**.\n",
    "For a unimodal distribution, **negative skewness commonly indicates that the tail is on the left side of the distribution**, and positive \n",
    "skewness indicates that the tail is on the right. \n",
    "\n",
    "The formal definition involves the third centered moment:\n",
    "$$\n",
    "S(X) := \\frac{\\mathbb{E}(X - \\mathbb{E}(X)^3)}{\\sigma^3},\n",
    "$$\n",
    "where $\\sigma$ is the standard deviation of $X$.\n",
    "\n",
    "The **kurtosis** is a measure of the **tailedness** of the probability distribution of a real-valued random \n",
    "variable, that is, it is a descriptor of the shape of a probability distribution. \n",
    "The formal definition involves the fourth centered moment:\n",
    "$$\n",
    "K(X) := \\frac{\\mathbb{E}(X - \\mathbb{E}(X)^4)}{\\sigma^4},\n",
    "$$\n",
    "where $\\sigma$ is the standard deviation of $X$. Basically, Kurtosis is **the average of the standardized data raised to the fourth power**. Any standardized values that are less than 1 (i.e., data within one standard deviation of the mean, which is where we observe the \"peak\"), contribute virtually nothing to kurtosis, since raising a number that is less than 1 to the fourth power makes it closer to zero. The only data values (observed or observable) that contribute to kurtosis in any meaningful way are those outside the region of the peak; i.e., the outliers. Therefore, **kurtosis measures outliers only**, saying nothing about the peak.\n",
    "\n",
    "\n",
    "**If $X$ is a Gaussian random variable we have $S(X) = 0$ and $K(X)=3$.**\n",
    "\n",
    "In particular, the **Excess Kurtosis** is defined as Kustosis minus 3, in order to provide a comparison to the normal distribution."
   ]
  },
  {
   "cell_type": "markdown",
   "metadata": {},
   "source": [
    "#### Examples"
   ]
  },
  {
   "cell_type": "code",
   "execution_count": 37,
   "metadata": {
    "scrolled": true
   },
   "outputs": [
    {
     "data": {
      "image/png": "[encoded data removed]",
      "text/plain": [
       "<Figure size 1296x216 with 2 Axes>"
      ]
     },
     "metadata": {},
     "output_type": "display_data"
    }
   ],
   "source": [
    "# Normal distributed random variable with mean 0 and std 2\n",
    "A = pd.DataFrame( {\"A\" : np.random.normal(0, 2, size=800)} )\n",
    "\n",
    "# Returns from FF dataset, that we know that are NOT normally distributed\n",
    "B = erk.get_ffme_returns()\n",
    "B = B[\"Hi 10\"]\n",
    "\n",
    "f = plt.figure(figsize=(18,3))\n",
    "ax1 = f.add_subplot(121)\n",
    "ax2 = f.add_subplot(122)\n",
    "\n",
    "ax1.hist( A.values ,bins=60, density=True )\n",
    "ax1.set_title('Normal r.v. - Mean {}; Std {}' .format(A.mean().values.round(3),A.std().values.round(3)))\n",
    "ax1.grid()\n",
    "\n",
    "ax2.hist( B.values ,bins=60, density=True )\n",
    "ax2.set_title('Not Normal r.v. - Mean {}; Std {}' .format(np.round(B.mean(),3), np.round(B.std(),3) ))\n",
    "ax2.grid()"
   ]
  },
  {
   "cell_type": "markdown",
   "metadata": {},
   "source": [
    "From the plot of the distributions, we can see that for the not normal random variables, we have a kind of symmetry, **but tails are fatters**. \n",
    "We then expect **the skewness to be close to zero** whereas the **kurtosis to be higher than $3$**."
   ]
  },
  {
   "cell_type": "code",
   "execution_count": 47,
   "metadata": {},
   "outputs": [
    {
     "data": {
      "image/png": "[encoded data removed]",
      "text/plain": [
       "<Figure size 1296x576 with 4 Axes>"
      ]
     },
     "metadata": {},
     "output_type": "display_data"
    }
   ],
   "source": [
    "# Skewness of A and B\n",
    "S_A = ( (A - A.mean())**3 / A.std(ddof=0)**3 ).mean() \n",
    "K_A = ( (A - A.mean())**4 / A.std(ddof=0)**4 ).mean() \n",
    "\n",
    "S_B = ( (B - B.mean())**3 / B.std(ddof=0)**3 ).mean()\n",
    "K_B = ( (B - B.mean())**4 / B.std(ddof=0)**4 ).mean()\n",
    "\n",
    "f = plt.figure(figsize=(18,8))\n",
    "ax1 = f.add_subplot(221)\n",
    "ax2 = f.add_subplot(222)\n",
    "ax3 = f.add_subplot(223)\n",
    "ax4 = f.add_subplot(224)\n",
    "\n",
    "ax1.plot( ((A - A.mean())**3 / A.std(ddof=0)**3).values  )\n",
    "ax1.set_title('Normal RV: plot of \"skewness before the mean\" - S={}' .format(S_A.values) )\n",
    "ax1.axhline(y=S_A[0], linestyle=\":\", color=\"red\")\n",
    "ax1.grid()\n",
    "\n",
    "ax2.plot( ((A - A.mean())**4 / A.std(ddof=0)**4).values  )\n",
    "ax2.set_title('Normal RV: plot of \"kurtosis before the mean\" - K={}' .format(K_A.values) )\n",
    "ax2.axhline(y=K_A[0], linestyle=\":\", color=\"red\")\n",
    "ax2.grid()\n",
    "\n",
    "ax3.plot( ((B - B.mean())**3 / B.std(ddof=0)**3).values  )\n",
    "ax3.set_title('Not Normal RV: plot of \"skewness before the mean\" - S={}' .format(np.round(S_B,3)) )\n",
    "ax3.axhline(y=S_B, linestyle=\":\", color=\"red\")\n",
    "ax3.grid()\n",
    "\n",
    "ax4.plot( ((B - B.mean())**4 / B.std(ddof=0)**4).values  )\n",
    "ax4.set_title('Not Normal RV: plot of \"kurtosis before the mean\" - S={}' .format(np.round(K_B,3)) )\n",
    "ax4.axhline(y=K_B, linestyle=\":\", color=\"red\")\n",
    "ax4.grid()"
   ]
  },
  {
   "cell_type": "markdown",
   "metadata": {},
   "source": [
    "Let us load another dataset corresponding to **hedge fund indices**:"
   ]
  },
  {
   "cell_type": "code",
   "execution_count": 8,
   "metadata": {},
   "outputs": [
    {
     "data": {
      "text/html": [
       "<div>\n",
       "<style scoped>\n",
       "    .dataframe tbody tr th:only-of-type {\n",
       "        vertical-align: middle;\n",
       "    }\n",
       "\n",
       "    .dataframe tbody tr th {\n",
       "        vertical-align: top;\n",
       "    }\n",
       "\n",
       "    .dataframe thead th {\n",
       "        text-align: right;\n",
       "    }\n",
       "</style>\n",
       "<table border=\"1\" class=\"dataframe\">\n",
       "  <thead>\n",
       "    <tr style=\"text-align: right;\">\n",
       "      <th></th>\n",
       "      <th>Convertible Arbitrage</th>\n",
       "      <th>CTA Global</th>\n",
       "      <th>Distressed Securities</th>\n",
       "      <th>Emerging Markets</th>\n",
       "      <th>Equity Market Neutral</th>\n",
       "      <th>Event Driven</th>\n",
       "      <th>Fixed Income Arbitrage</th>\n",
       "      <th>Global Macro</th>\n",
       "      <th>Long/Short Equity</th>\n",
       "      <th>Merger Arbitrage</th>\n",
       "      <th>Relative Value</th>\n",
       "      <th>Short Selling</th>\n",
       "      <th>Funds Of Funds</th>\n",
       "    </tr>\n",
       "    <tr>\n",
       "      <th>date</th>\n",
       "      <th></th>\n",
       "      <th></th>\n",
       "      <th></th>\n",
       "      <th></th>\n",
       "      <th></th>\n",
       "      <th></th>\n",
       "      <th></th>\n",
       "      <th></th>\n",
       "      <th></th>\n",
       "      <th></th>\n",
       "      <th></th>\n",
       "      <th></th>\n",
       "      <th></th>\n",
       "    </tr>\n",
       "  </thead>\n",
       "  <tbody>\n",
       "    <tr>\n",
       "      <th>1997-01-31</th>\n",
       "      <td>0.0119</td>\n",
       "      <td>0.0393</td>\n",
       "      <td>0.0178</td>\n",
       "      <td>0.0791</td>\n",
       "      <td>0.0189</td>\n",
       "      <td>0.0213</td>\n",
       "      <td>0.0191</td>\n",
       "      <td>0.0573</td>\n",
       "      <td>0.0281</td>\n",
       "      <td>0.0150</td>\n",
       "      <td>0.0180</td>\n",
       "      <td>-0.0166</td>\n",
       "      <td>0.0317</td>\n",
       "    </tr>\n",
       "    <tr>\n",
       "      <th>1997-02-28</th>\n",
       "      <td>0.0123</td>\n",
       "      <td>0.0298</td>\n",
       "      <td>0.0122</td>\n",
       "      <td>0.0525</td>\n",
       "      <td>0.0101</td>\n",
       "      <td>0.0084</td>\n",
       "      <td>0.0122</td>\n",
       "      <td>0.0175</td>\n",
       "      <td>-0.0006</td>\n",
       "      <td>0.0034</td>\n",
       "      <td>0.0118</td>\n",
       "      <td>0.0426</td>\n",
       "      <td>0.0106</td>\n",
       "    </tr>\n",
       "    <tr>\n",
       "      <th>1997-03-31</th>\n",
       "      <td>0.0078</td>\n",
       "      <td>-0.0021</td>\n",
       "      <td>-0.0012</td>\n",
       "      <td>-0.0120</td>\n",
       "      <td>0.0016</td>\n",
       "      <td>-0.0023</td>\n",
       "      <td>0.0109</td>\n",
       "      <td>-0.0119</td>\n",
       "      <td>-0.0084</td>\n",
       "      <td>0.0060</td>\n",
       "      <td>0.0010</td>\n",
       "      <td>0.0778</td>\n",
       "      <td>-0.0077</td>\n",
       "    </tr>\n",
       "  </tbody>\n",
       "</table>\n",
       "</div>"
      ],
      "text/plain": [
       "            Convertible Arbitrage  CTA Global  Distressed Securities  \\\n",
       "date                                                                   \n",
       "1997-01-31                 0.0119      0.0393                 0.0178   \n",
       "1997-02-28                 0.0123      0.0298                 0.0122   \n",
       "1997-03-31                 0.0078     -0.0021                -0.0012   \n",
       "\n",
       "            Emerging Markets  Equity Market Neutral  Event Driven  \\\n",
       "date                                                                \n",
       "1997-01-31            0.0791                 0.0189        0.0213   \n",
       "1997-02-28            0.0525                 0.0101        0.0084   \n",
       "1997-03-31           -0.0120                 0.0016       -0.0023   \n",
       "\n",
       "            Fixed Income Arbitrage  Global Macro  Long/Short Equity  \\\n",
       "date                                                                  \n",
       "1997-01-31                  0.0191        0.0573             0.0281   \n",
       "1997-02-28                  0.0122        0.0175            -0.0006   \n",
       "1997-03-31                  0.0109       -0.0119            -0.0084   \n",
       "\n",
       "            Merger Arbitrage  Relative Value  Short Selling  Funds Of Funds  \n",
       "date                                                                         \n",
       "1997-01-31            0.0150          0.0180        -0.0166          0.0317  \n",
       "1997-02-28            0.0034          0.0118         0.0426          0.0106  \n",
       "1997-03-31            0.0060          0.0010         0.0778         -0.0077  "
      ]
     },
     "execution_count": 8,
     "metadata": {},
     "output_type": "execute_result"
    }
   ],
   "source": [
    "hfi = erk.get_hfi_returns()\n",
    "hfi.head(3)"
   ]
  },
  {
   "cell_type": "code",
   "execution_count": 49,
   "metadata": {},
   "outputs": [
    {
     "data": {
      "text/html": [
       "<div>\n",
       "<style scoped>\n",
       "    .dataframe tbody tr th:only-of-type {\n",
       "        vertical-align: middle;\n",
       "    }\n",
       "\n",
       "    .dataframe tbody tr th {\n",
       "        vertical-align: top;\n",
       "    }\n",
       "\n",
       "    .dataframe thead th {\n",
       "        text-align: right;\n",
       "    }\n",
       "</style>\n",
       "<table border=\"1\" class=\"dataframe\">\n",
       "  <thead>\n",
       "    <tr style=\"text-align: right;\">\n",
       "      <th></th>\n",
       "      <th>Skewness</th>\n",
       "      <th>Kurtosis</th>\n",
       "    </tr>\n",
       "  </thead>\n",
       "  <tbody>\n",
       "    <tr>\n",
       "      <th>Convertible Arbitrage</th>\n",
       "      <td>-2.624552</td>\n",
       "      <td>23.280834</td>\n",
       "    </tr>\n",
       "    <tr>\n",
       "      <th>CTA Global</th>\n",
       "      <td>0.172709</td>\n",
       "      <td>2.952960</td>\n",
       "    </tr>\n",
       "    <tr>\n",
       "      <th>Distressed Securities</th>\n",
       "      <td>-1.293430</td>\n",
       "      <td>7.889983</td>\n",
       "    </tr>\n",
       "    <tr>\n",
       "      <th>Emerging Markets</th>\n",
       "      <td>-1.160418</td>\n",
       "      <td>9.250788</td>\n",
       "    </tr>\n",
       "    <tr>\n",
       "      <th>Equity Market Neutral</th>\n",
       "      <td>-2.112330</td>\n",
       "      <td>17.218555</td>\n",
       "    </tr>\n",
       "    <tr>\n",
       "      <th>Event Driven</th>\n",
       "      <td>-1.401124</td>\n",
       "      <td>8.035828</td>\n",
       "    </tr>\n",
       "    <tr>\n",
       "      <th>Fixed Income Arbitrage</th>\n",
       "      <td>-3.917868</td>\n",
       "      <td>29.842199</td>\n",
       "    </tr>\n",
       "    <tr>\n",
       "      <th>Global Macro</th>\n",
       "      <td>0.977321</td>\n",
       "      <td>5.741679</td>\n",
       "    </tr>\n",
       "    <tr>\n",
       "      <th>Long/Short Equity</th>\n",
       "      <td>-0.388003</td>\n",
       "      <td>4.523893</td>\n",
       "    </tr>\n",
       "    <tr>\n",
       "      <th>Merger Arbitrage</th>\n",
       "      <td>-1.312562</td>\n",
       "      <td>8.738950</td>\n",
       "    </tr>\n",
       "    <tr>\n",
       "      <th>Relative Value</th>\n",
       "      <td>-1.805125</td>\n",
       "      <td>12.121208</td>\n",
       "    </tr>\n",
       "    <tr>\n",
       "      <th>Short Selling</th>\n",
       "      <td>0.763599</td>\n",
       "      <td>6.117772</td>\n",
       "    </tr>\n",
       "    <tr>\n",
       "      <th>Funds Of Funds</th>\n",
       "      <td>-0.359722</td>\n",
       "      <td>7.070153</td>\n",
       "    </tr>\n",
       "  </tbody>\n",
       "</table>\n",
       "</div>"
      ],
      "text/plain": [
       "                        Skewness   Kurtosis\n",
       "Convertible Arbitrage  -2.624552  23.280834\n",
       "CTA Global              0.172709   2.952960\n",
       "Distressed Securities  -1.293430   7.889983\n",
       "Emerging Markets       -1.160418   9.250788\n",
       "Equity Market Neutral  -2.112330  17.218555\n",
       "Event Driven           -1.401124   8.035828\n",
       "Fixed Income Arbitrage -3.917868  29.842199\n",
       "Global Macro            0.977321   5.741679\n",
       "Long/Short Equity      -0.388003   4.523893\n",
       "Merger Arbitrage       -1.312562   8.738950\n",
       "Relative Value         -1.805125  12.121208\n",
       "Short Selling           0.763599   6.117772\n",
       "Funds Of Funds         -0.359722   7.070153"
      ]
     },
     "execution_count": 49,
     "metadata": {},
     "output_type": "execute_result"
    }
   ],
   "source": [
    "hfi_skew_kurt = pd.DataFrame(columns=[\"Skewness\",\"Kurtosis\"])\n",
    "\n",
    "# Compute the skewness and kurtosis of the returns in hfi using the pandas aggregate method, \n",
    "# which takes in input a function and applies the function to every column of the given dataframe\n",
    "\n",
    "# compute the skewness\n",
    "hfi_skew_kurt[\"Skewness\"] = hfi.aggregate( erk.skewness )\n",
    "\n",
    "# compute the kurtosis\n",
    "hfi_skew_kurt[\"Kurtosis\"] = hfi.aggregate( erk.kurtosis )\n",
    "\n",
    "hfi_skew_kurt"
   ]
  },
  {
   "cell_type": "markdown",
   "metadata": {},
   "source": [
    "Which index has, more or less, a Gaussian distribution? It seems that **CTA Global** has a skewnesss close to zero and kurtosis close to 3. \n",
    "\n",
    "We can use a test, called **Jarque-Bera test** from **scipy** which is implemented in our erk toolkit."
   ]
  },
  {
   "cell_type": "code",
   "execution_count": 50,
   "metadata": {},
   "outputs": [
    {
     "name": "stdout",
     "output_type": "stream",
     "text": [
      "(1.3467529104392226, 0.5099837302620382)\n",
      "True\n"
     ]
    }
   ],
   "source": [
    "# For example:\n",
    "print( scipy.stats.jarque_bera( hfi[\"CTA Global\"] ) )\n",
    "print( erk.is_normal( hfi[\"CTA Global\"] ) )"
   ]
  },
  {
   "cell_type": "code",
   "execution_count": 51,
   "metadata": {},
   "outputs": [
    {
     "name": "stdout",
     "output_type": "stream",
     "text": [
      "(4812.703130094962, 0.0)\n",
      "False\n"
     ]
    }
   ],
   "source": [
    "#while:\n",
    "print( scipy.stats.jarque_bera( hfi[\"Convertible Arbitrage\"] ) )\n",
    "print( erk.is_normal(  hfi[\"Convertible Arbitrage\"] ) )"
   ]
  },
  {
   "cell_type": "markdown",
   "metadata": {},
   "source": [
    "The second value is the so-called **p value** which is the one to look at to see if the returs are normally distributed. \n",
    "By default, if this value is larger than $0.01$, then the answer is true, or if you want, the series of returns passes the test."
   ]
  },
  {
   "cell_type": "code",
   "execution_count": 52,
   "metadata": {},
   "outputs": [
    {
     "data": {
      "text/plain": [
       "Convertible Arbitrage     False\n",
       "CTA Global                 True\n",
       "Distressed Securities     False\n",
       "Emerging Markets          False\n",
       "Equity Market Neutral     False\n",
       "Event Driven              False\n",
       "Fixed Income Arbitrage    False\n",
       "Global Macro              False\n",
       "Long/Short Equity         False\n",
       "Merger Arbitrage          False\n",
       "Relative Value            False\n",
       "Short Selling             False\n",
       "Funds Of Funds            False\n",
       "dtype: bool"
      ]
     },
     "execution_count": 52,
     "metadata": {},
     "output_type": "execute_result"
    }
   ],
   "source": [
    "hfi.aggregate( erk.is_normal )"
   ]
  },
  {
   "cell_type": "markdown",
   "metadata": {},
   "source": [
    "We see that only the CTA GLobal index of returns passes the test, i.e., it seems to be normally distributed."
   ]
  },
  {
   "cell_type": "markdown",
   "metadata": {},
   "source": [
    "## Downside risk measures"
   ]
  },
  {
   "cell_type": "markdown",
   "metadata": {},
   "source": [
    "### Semivolatility (or semideviation)\n",
    "Recall that the volatility of an asset is simply the standard deviation. \n",
    "The **semivolatility** is simply the volatility of the portion of the return dataset which are negative.\n",
    "In fact, when returns are positive, and they largely deviate from the mean, it is not really a problem. Investors are happy if this happens and they do not concern about how much volatile positive returns are. \n",
    "\n",
    "**We rather concern about the volatility of negative returns**. Therefore, the definition is simply given by:\n",
    "$$\n",
    "\\sigma_{semi} := \\sqrt{ \\frac{1}{N_{semi}} \\sum_{R_t < 0} (R_t - \\mu_{semi})^2 },\n",
    "$$\n",
    "where $\\mu_{semi}$ is the sample mean of the negative returns and $N_{semi}$ is the number of these negative returns. \n",
    "\n",
    "Note that the definition can be applied to the returns which are **below the mean**, not necessarily at the negative ones."
   ]
  },
  {
   "cell_type": "code",
   "execution_count": 53,
   "metadata": {},
   "outputs": [
    {
     "data": {
      "text/plain": [
       "Convertible Arbitrage     0.019687\n",
       "CTA Global                0.012495\n",
       "Distressed Securities     0.015288\n",
       "Emerging Markets          0.028197\n",
       "Equity Market Neutral     0.009667\n",
       "Event Driven              0.015536\n",
       "Fixed Income Arbitrage    0.017940\n",
       "Global Macro              0.006612\n",
       "Long/Short Equity         0.014133\n",
       "Merger Arbitrage          0.008954\n",
       "Relative Value            0.012355\n",
       "Short Selling             0.027377\n",
       "Funds Of Funds            0.012191\n",
       "dtype: float64"
      ]
     },
     "execution_count": 53,
     "metadata": {},
     "output_type": "execute_result"
    }
   ],
   "source": [
    "# Computing the semivolatility (for negative returns) implemented in erk\n",
    "erk.semivolatility( hfi )"
   ]
  },
  {
   "cell_type": "markdown",
   "metadata": {},
   "source": [
    "### Value at Risk (VaR)\n",
    "\n",
    "It represents the **maximum expected loss** over a certain time period. \n",
    "First of all, we specify a certain confidence **level**, in $(0,1)$, although it is typically expressed in percentage. \n",
    "\n",
    "For example consider a $99\\%$ level (i.e., $\\alpha=0.99$). When we say **$99\\%$ monthly VaR** it means that we are looking at the **worst possibile outcome over a month after excluding the $1\\%$ of extreme worst losses**. In other words, what is **the maximum loss that you can take with $99\\%$ of probability  over one month**.\n",
    "\n",
    "**Example:** we are given the following set of monthly returns:\n",
    "$$\n",
    "R = (-4\\%, +5\\%, +2\\%, -7\\%, +1\\%, +0.5\\%, -2\\%, -1\\%, -2\\%, +5\\%).\n",
    "$$\n",
    "**What is the $90\\%$ monthly VaR?** \n",
    "\n",
    "So what we have to do is 1) to exclude the $10\\%$ worst returns and 2) looking at the worst return of the remaining ones. \n",
    "Since we have $10$ returns, the $10\\%$ worse return is just $1$ return, i.e., $-7\\%$, and so the worse return of the remaing ones is $-4\\%$. \n",
    "Then $\\text{VaR} = 4\\%$.\n",
    "\n",
    "**NOTE THAT although the value we find was $-4\\%$ we say that $\\text{VaR} = 4\\%$, i.e., the VaR is tipically a positive number.**\n",
    "\n",
    "\n",
    "Mathematically, the VaR is defined as follow. Given the confidence level $\\alpha\\in(0,1)$,\n",
    "$$\n",
    "\\text{VaR}_{\\alpha}\n",
    ":= - \\text{inf}\\{x\\in\\mathbb{R} \\;:\\; \\mathbb{P}(R \\leq x) \\geq 1-\\alpha \\} \n",
    "= - \\text{inf}\\left\\{x\\in\\mathbb{R} \\;:\\;  \\mathbb{P}(R \\geq x) \\leq \\alpha\\right\\},  \n",
    "$$\n",
    "that is, it is nothing but that the **$(1-\\alpha)$-quantile** since we effectively want to find the number $\\text{VaR}_\\alpha$ such that \n",
    "$$\n",
    "\\mathbb{P}( R \\leq -\\text{VaR}_\\alpha) = 1-\\alpha,\n",
    "$$\n",
    "which says that there is a $(1-\\alpha)\\%$ probability of having a (negative) return greater or equal to $-\\text{VaR}_\\alpha$.\n",
    "\n",
    "In previous example, the $90\\%$ monthly VaR equal to $4\\%$, means that \n",
    "$$\n",
    "0.04 = \\text{VaR}_{0.9} = -\\text{inf}\\{x\\in\\mathbb{R} \\;:\\; \\mathbb{P}(R \\leq x) \\geq 0.01 \\},\n",
    "$$\n",
    "i.e., there is a $10\\%$ probability of loosing more than $4\\%$ of our money invested (having monthly returns less than -$4\\%$). "
   ]
  },
  {
   "cell_type": "markdown",
   "metadata": {},
   "source": [
    "### Conditional VaR (or Beyond VaR)\n",
    "\n",
    "This is defined as the expected loss **beyond** VaR, or more formally, we look at **the average of the distribution beyond the VaR**, that is of those returns which are less than the VaR. Mathematically, this is going to be:\n",
    "$$\n",
    "\\text{CVaR} := - \\mathbb{E}( R | R<-\\text{VaR}) = - \\frac{\\int_{-\\infty}^{-\\text{VaR}} t f_R(t)dt }{F_R(-\\text{Var})},\n",
    "$$\n",
    "where $f_R$ is the density function of our returns and $F_R$ is the cumulative distribution function. \n",
    "\n",
    "**Example:** we are given the following set of monthly returns:\n",
    "$$\n",
    "R = (-4\\%, +5\\%, +2\\%, -7\\%, +1\\%, +0.5\\%, -2\\%, -1\\%, -2\\%, +5\\%).\n",
    "$$\n",
    "**What is the $80\\%$ monthly CVaR?** \n",
    "\n",
    "So what we have to do is 1) excluding the $20\\%$ worse returns and 2) looking at the worse return of the remaining ones and in this way we find $\\text{VaR}_{0.8}$. 3) Then, we take the average of the returns which are less than $\\text{VaR}_{0.8}$. \n",
    "\n",
    "Since we have $10$ returns, the $20\\%$ worse return are $2$ returns, $-7\\%$ and $-4\\%$. The worse return among the remaining ones is $-2\\%$. That is, $\\text{VaR}_{0.8} = 2\\%$. Now, we see that the returns less than $-\\text{VaR}_{0.8}=-2\\%$ are only $-7\\%$ and $-4\\%$. \n",
    "Their average is $\\text{CVAR}_{0.8} = - (-7\\%-4\\%)/2 = 5.5\\%$."
   ]
  },
  {
   "cell_type": "markdown",
   "metadata": {},
   "source": [
    "### Methods for estimating VaR and CVaR\n",
    "We have the following methods:\n",
    "\n",
    "#### Historical method (non parametric)\n",
    "This is the most intuitive one which works by simply applying the definition of VaR as $(1-\\alpha)$-quantile of the distribution of the returns of the asset under consideration. For example, consider the hedge fund indices returns:"
   ]
  },
  {
   "cell_type": "code",
   "execution_count": 9,
   "metadata": {},
   "outputs": [
    {
     "data": {
      "image/png": "[encoded data removed]",
      "text/plain": [
       "<Figure size 576x288 with 1 Axes>"
      ]
     },
     "metadata": {},
     "output_type": "display_data"
    }
   ],
   "source": [
    "# get the CTA global returns\n",
    "hfi = erk.get_hfi_returns()\n",
    "\n",
    "# ...and plot their distribution\n",
    "ax = hfi[\"CTA Global\"].plot.hist(figsize=(8,4), bins=60, density=True)\n",
    "ax.set_title(\"CTA Global returns distribution\")\n",
    "ax.grid()"
   ]
  },
  {
   "cell_type": "markdown",
   "metadata": {},
   "source": [
    "We want to get the $90\\%$, $95\\%$, and $99\\%$ monthly VaR. \n",
    "That is, we have levels $1-\\alpha=0.01, 0.05, 0.01$. We can use the *percentile* method."
   ]
  },
  {
   "cell_type": "code",
   "execution_count": 17,
   "metadata": {},
   "outputs": [
    {
     "name": "stdout",
     "output_type": "stream",
     "text": [
      "90% Var: 2.41%\n",
      "95% Var: 3.17%\n",
      "99% Var: 4.95%\n"
     ]
    }
   ],
   "source": [
    "alpha = np.array([0.90, 0.95, 0.99])\n",
    "level = 1 - alpha\n",
    "\n",
    "# In the percentile method, we multiply by 100 because it wants an input between 0 and 100\n",
    "VaRs = -np.percentile(hfi[\"CTA Global\"], level*100)\n",
    "\n",
    "print(\"90% Var: {:.2f}%\".format(VaRs[0] * 100))\n",
    "print(\"95% Var: {:.2f}%\".format(VaRs[1] * 100))\n",
    "print(\"99% Var: {:.2f}%\".format(VaRs[2] * 100))"
   ]
  },
  {
   "cell_type": "markdown",
   "metadata": {},
   "source": [
    "It means that there is a $10\\%$, $5\\%$, $1\\%$ probability that any given month we can loose at least about $2.4\\%$, $3\\%$, and $5\\%$, respectively. \n",
    "\n",
    "Or, alternatively, that **there is a $90\\%$, $95\\%$, $99\\%$ probability that for any given month we loose less than $2.4\\%$, $3\\%$, and $5\\%$, respectively.**"
   ]
  },
  {
   "cell_type": "markdown",
   "metadata": {},
   "source": [
    "It is worth saying that this way of computing VaR is, however, sensitive to the timescale of our returns, \n",
    "because a VaR computed using monthly returns will be different from a VaR computed using weekly returns$\\dots$"
   ]
  },
  {
   "cell_type": "markdown",
   "metadata": {},
   "source": [
    "#### Parametric method (Gaussian)\n",
    "Here, we **assume that the returns are normally distributed**, which is, however, **often incorrect**. \n",
    "\n",
    "Let $\\mu$ and $\\sigma$ be the mean and the volatility of the returns $R$ and suppose that $R\\sim N(\\mu,\\sigma)$. \n",
    "Via standardization, we can express $R$ as $R = \\mu + X \\sigma$, where $X\\sim N(0,1)$. \n",
    "This way, **for computing $\\text{VaR}_\\alpha$, i.e. the $(1-\\alpha)$-quantile of the distribution of $R$, we can compute the $(1-\\alpha)$-quantile of the stardard normal distribution**. \n",
    "\n",
    "By definition of $\\text{VaR}_\\alpha$ and quantiles, we want to find the number $z_\\alpha$ such that \n",
    "$$\n",
    "\\mathbb{P}(R \\leq z_\\alpha) = 1-\\alpha.\n",
    "$$\n",
    "Hence we would have:\n",
    "$$\n",
    "1-\\alpha = \\mathbb{P}(R \\leq z_\\alpha) = \\mathbb{P}(\\mu+ X\\sigma \\leq z_\\alpha) \n",
    "= \\mathbb{P}\\left(X \\leq \\frac{z_\\alpha-\\mu}{\\sigma}\\right) \n",
    "= \\Phi\\left( \\frac{z_\\alpha-\\mu}{\\sigma} \\right)\n",
    "\\qquad\\Longrightarrow\\qquad\n",
    "z_\\alpha = \\mu + \\Phi^{-1}(1-\\alpha)\\sigma \n",
    "$$\n",
    "Hence, we have found:\n",
    "$$\n",
    "\\text{VaR}_\\alpha = -\\left(\\;\\mu + \\Phi^{-1}(1-\\alpha) \\sigma\\;\\right),\n",
    "$$\n",
    "where $\\Phi^{-1}(1-\\alpha)$ is the $(1-\\alpha)$-quantile of the Gaussian distribution that we can find using the *norm.ppf*, \n",
    "and $\\mu$ and $\\sigma$ are the mean and volatility of our returns series, respectively \n",
    "(here, recall that we put a minus since we want the VaR to be a positive number)."
   ]
  },
  {
   "cell_type": "code",
   "execution_count": 57,
   "metadata": {},
   "outputs": [
    {
     "data": {
      "text/plain": [
       "Convertible Arbitrage     0.021743\n",
       "CTA Global                0.034308\n",
       "Distressed Securities     0.021085\n",
       "Emerging Markets          0.047266\n",
       "Equity Market Neutral     0.008875\n",
       "Event Driven              0.021196\n",
       "Fixed Income Arbitrage    0.014615\n",
       "Global Macro              0.018813\n",
       "Long/Short Equity         0.026459\n",
       "Merger Arbitrage          0.010466\n",
       "Relative Value            0.013097\n",
       "Short Selling             0.080236\n",
       "Funds Of Funds            0.021341\n",
       "dtype: float64"
      ]
     },
     "execution_count": 57,
     "metadata": {},
     "output_type": "execute_result"
    }
   ],
   "source": [
    "# Compute the 95% monthly Gaussian VaR of the hedge fund indices \n",
    "alpha = 0.95\n",
    "erk.var_gaussian( hfi, level=1-alpha)"
   ]
  },
  {
   "cell_type": "markdown",
   "metadata": {},
   "source": [
    "#### Cornish-Fisher method (semi parametric)\n",
    "\n",
    "This is a modification of the parametric Gaussian method. The method uses the **Cornish-Fisher expansion (1937) of quantiles** which basically relates the $\\alpha$-quantilies of **non Gaussian** distribution with the $\\alpha$-quantiles of the Gaussian distribution \n",
    "in the following way:\n",
    "$$\n",
    "\\tilde{z}_\\alpha \n",
    "= z_\\alpha + \\frac{1}{6}(z_\\alpha^2 - 1)S \n",
    "+ \\frac{1}{24}(z_\\alpha^3 - 3 z_\\alpha)(K-3) \n",
    "- \\frac{1}{36}(2z_\\alpha^3 - 5 z_\\alpha)S^2\n",
    "$$\n",
    "where $\\tilde{z}_\\alpha$, $S$, and $K$ denote the $\\alpha$-quantile, the skewness, and the kurtosis of the the non Gaussian distribution (say, our returns series), respectively, and $z_\\alpha$ is the $\\alpha$-quantile of the Gaussian distribution. \n",
    "Notice that if the distribution of our series was, effectively, Gaussian, then $S=0$ and $K=3$ and so $\\tilde{z}_\\alpha$ would be equal to $z_\\alpha$.\n",
    "\n",
    "Therefore, with this method, we have:\n",
    "$$\n",
    "\\text{VaR}_\\alpha = -\\left(\\;\\mu + \\tilde{z}_\\alpha  \\sigma\\;\\right).\n",
    "$$"
   ]
  },
  {
   "cell_type": "code",
   "execution_count": 58,
   "metadata": {},
   "outputs": [
    {
     "data": {
      "text/plain": [
       "Convertible Arbitrage     0.025052\n",
       "CTA Global                0.033171\n",
       "Distressed Securities     0.025102\n",
       "Emerging Markets          0.053023\n",
       "Equity Market Neutral     0.010702\n",
       "Event Driven              0.025509\n",
       "Fixed Income Arbitrage    0.017693\n",
       "Global Macro              0.013628\n",
       "Long/Short Equity         0.027985\n",
       "Merger Arbitrage          0.012611\n",
       "Relative Value            0.016132\n",
       "Short Selling             0.066314\n",
       "Funds Of Funds            0.021614\n",
       "dtype: float64"
      ]
     },
     "execution_count": 58,
     "metadata": {},
     "output_type": "execute_result"
    }
   ],
   "source": [
    "# Compute the 95% monthly Gaussian VaR of the hedge fund indices using the Cornish-Fisher method\n",
    "erk.var_gaussian(hfi, cf=True)"
   ]
  },
  {
   "cell_type": "markdown",
   "metadata": {},
   "source": [
    "Finally, the **conditional VaR** is computed using the historical method: look at the *cvar_historic* from the *erk* toolkit."
   ]
  },
  {
   "cell_type": "markdown",
   "metadata": {},
   "source": [
    "#### Compare VaRs"
   ]
  },
  {
   "cell_type": "code",
   "execution_count": 14,
   "metadata": {},
   "outputs": [
    {
     "data": {
      "image/png": "[encoded data removed]",
      "text/plain": [
       "<Figure size 936x360 with 1 Axes>"
      ]
     },
     "metadata": {},
     "output_type": "display_data"
    }
   ],
   "source": [
    "comparevars = pd.concat([erk.var_historic(hfi), erk.var_gaussian(hfi), erk.var_gaussian(hfi,cf=True), erk.cvar_historic(hfi)], axis=1)\n",
    "comparevars.columns = [\"Historical\",\"Gaussian\",\"Cornish-Fisher\",\"Conditional VaR\"]\n",
    "(comparevars * 100).plot.bar(figsize=(13,5), grid=True, title=\"Comparison of 95% monthly VaRs for Hedge Fund indices\")\n",
    "plt.ylabel(\"%\")\n",
    "plt.show()"
   ]
  },
  {
   "cell_type": "markdown",
   "metadata": {},
   "source": [
    "Observe how the conditional VaR is normally the larger type of VaR, whereas teh historical method normally gives the smallest VaR."
   ]
  }
 ],
 "metadata": {
  "kernelspec": {
   "display_name": "Python 3",
   "language": "python",
   "name": "python3"
  },
  "language_info": {
   "codemirror_mode": {
    "name": "ipython",
    "version": 3
   },
   "file_extension": ".py",
   "mimetype": "text/x-python",
   "name": "python",
   "nbconvert_exporter": "python",
   "pygments_lexer": "ipython3",
   "version": "3.7.3"
  }
 },
 "nbformat": 4,
 "nbformat_minor": 4
}
